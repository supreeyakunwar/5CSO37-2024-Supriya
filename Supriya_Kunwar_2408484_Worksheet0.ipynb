{
 "cells": [
  {
   "cell_type": "markdown",
   "id": "ec18d3d5",
   "metadata": {},
   "source": [
    "# 5CS037 - Concepts and Technologies of AI.\n",
    "\n",
    "# Worksheet - 0: Python Essentials for Machine Learning"
   ]
  },
  {
   "cell_type": "code",
   "execution_count": 4,
   "id": "fcc6b306",
   "metadata": {},
   "outputs": [
    {
     "name": "stdout",
     "output_type": "stream",
     "text": [
      "Hello, World!\n",
      "Python version: 3.11.5 | packaged by Anaconda, Inc. | (main, Sep 11 2023, 13:26:23) [MSC v.1916 64 bit (AMD64)]\n"
     ]
    }
   ],
   "source": [
    "import sys\n",
    "# Check Python version\n",
    "if sys.version_info.major == 3 and sys.version_info.minor >= 6:\n",
    "    print(\"Hello, World!\")\n",
    "    print(f\"Python version: {sys.version}\")\n",
    "else:\n",
    "    print(\"Please use Python 3.6 or higher.\")"
   ]
  },
  {
   "cell_type": "code",
   "execution_count": 5,
   "id": "a3017340",
   "metadata": {},
   "outputs": [
    {
     "name": "stdout",
     "output_type": "stream",
     "text": [
      "data type of variable age =  <class 'int'>\n",
      "data type of variable pi =  <class 'float'>\n",
      "data type of variable temperature =  <class 'float'>\n"
     ]
    }
   ],
   "source": [
    "age = 23 #int\n",
    "pi = 3.14 #float\n",
    "temperature = -5.5 #float\n",
    "print(\"data type of variable age = \", type(age))\n",
    "print(\"data type of variable pi = \", type(pi))\n",
    "print(\"data type of variable temperature = \", type(temperature))"
   ]
  },
  {
   "cell_type": "code",
   "execution_count": 1,
   "id": "4cbce051",
   "metadata": {},
   "outputs": [
    {
     "name": "stdout",
     "output_type": "stream",
     "text": [
      "data type of the variable name =  <class 'str'>\n",
      "data type of the variable greeting =  <class 'str'>\n",
      "data type of the variable address =  <class 'str'>\n",
      "The first letter of the name is: S\n",
      "The last letter of the name is: a\n",
      "The second letter to the fourth of the name is: upr\n",
      "The first two letters of the name are: Su\n",
      "Substring starting from the third letter is: priya\n"
     ]
    }
   ],
   "source": [
    "name = \"Supriya\"\n",
    "greeting = 'Hello'\n",
    "address = \"123 Main St\"\n",
    "print(\"data type of the variable name = \",type(name))\n",
    "print(\"data type of the variable greeting = \",type(greeting))\n",
    "print(\"data type of the variable address = \",type(address))\n",
    "# slice only one element\n",
    "print(\"The first letter of the name is:\", name[0])\n",
    "print(\"The last letter of the name is:\", name[-1])\n",
    "# slice a range of elements\n",
    "print(\"The second letter to the fourth of the name is:\", name[1:4])\n",
    "print(\"The first two letters of the name are:\", name[:2])\n",
    "print(\"Substring starting from the third letter is:\", name[2:])"
   ]
  },
  {
   "cell_type": "code",
   "execution_count": 7,
   "id": "da11322d",
   "metadata": {},
   "outputs": [
    {
     "data": {
      "text/plain": [
       "[False, 'Hello', True]"
      ]
     },
     "execution_count": 7,
     "metadata": {},
     "output_type": "execute_result"
    }
   ],
   "source": [
    "list1 = [1, 2, 3, 4]\n",
    "mixed_list = [12, \"Hello\", True]\n",
    "# List is mutable\n",
    "mixed_list[0] = False\n",
    "mixed_list"
   ]
  },
  {
   "cell_type": "code",
   "execution_count": 8,
   "id": "2983d49d",
   "metadata": {},
   "outputs": [
    {
     "name": "stdout",
     "output_type": "stream",
     "text": [
      "First element: red\n",
      "Last two elements: ('yellow', 'blue')\n",
      "Middle two elements: ('green', 'yellow')\n"
     ]
    },
    {
     "ename": "TypeError",
     "evalue": "'tuple' object does not support item assignment",
     "output_type": "error",
     "traceback": [
      "\u001b[1;31m---------------------------------------------------------------------------\u001b[0m",
      "\u001b[1;31mTypeError\u001b[0m                                 Traceback (most recent call last)",
      "Cell \u001b[1;32mIn[8], line 5\u001b[0m\n\u001b[0;32m      3\u001b[0m \u001b[38;5;28mprint\u001b[39m(\u001b[38;5;124m\"\u001b[39m\u001b[38;5;124mLast two elements:\u001b[39m\u001b[38;5;124m\"\u001b[39m, colors[\u001b[38;5;241m2\u001b[39m:])\n\u001b[0;32m      4\u001b[0m \u001b[38;5;28mprint\u001b[39m(\u001b[38;5;124m\"\u001b[39m\u001b[38;5;124mMiddle two elements:\u001b[39m\u001b[38;5;124m\"\u001b[39m, colors[\u001b[38;5;241m1\u001b[39m:\u001b[38;5;241m3\u001b[39m])\n\u001b[1;32m----> 5\u001b[0m colors[\u001b[38;5;241m0\u001b[39m] \u001b[38;5;241m=\u001b[39m \u001b[38;5;124m'\u001b[39m\u001b[38;5;124mpurple\u001b[39m\u001b[38;5;124m'\u001b[39m\n\u001b[0;32m      6\u001b[0m colors\n",
      "\u001b[1;31mTypeError\u001b[0m: 'tuple' object does not support item assignment"
     ]
    }
   ],
   "source": [
    "colors = ('red', 'green', 'yellow', 'blue')\n",
    "print(\"First element:\", colors[0])\n",
    "print(\"Last two elements:\", colors[2:])\n",
    "print(\"Middle two elements:\", colors[1:3])\n",
    "colors[0] = 'purple'\n",
    "colors # will generate an error as tuple is immutable."
   ]
  },
  {
   "cell_type": "code",
   "execution_count": 2,
   "id": "60a228df",
   "metadata": {},
   "outputs": [
    {
     "name": "stdout",
     "output_type": "stream",
     "text": [
      "Hello my name is Supriya. I am 19 years old and I live at Kathmandu.\n",
      "All keys: ['name', 'age', 'city']\n",
      "All values: ['Supriya', 19, 'Kathmandu']\n"
     ]
    }
   ],
   "source": [
    "person = {'name':'Supriya','age':19,'city':'Kathmandu'}\n",
    "print(f\"Hello my name is {person['name']}. I am {person['age']} years old and I live at {person['city']}.\")\n",
    "print(\"All keys:\", list(person.keys()))\n",
    "print(\"All values:\", list(person.values()))"
   ]
  },
  {
   "cell_type": "code",
   "execution_count": 10,
   "id": "a8c36869",
   "metadata": {},
   "outputs": [
    {
     "name": "stdout",
     "output_type": "stream",
     "text": [
      "{1, 2, 3, 4, 5}\n"
     ]
    }
   ],
   "source": [
    "unique_numbers = {1,2,3,3,3,3,4,5}\n",
    "print(unique_numbers)"
   ]
  },
  {
   "cell_type": "code",
   "execution_count": 11,
   "id": "6afb998b",
   "metadata": {},
   "outputs": [
    {
     "name": "stdout",
     "output_type": "stream",
     "text": [
      "data type of the variable is_student =  <class 'bool'>\n",
      "data type of the variable has_license =  <class 'bool'>\n"
     ]
    }
   ],
   "source": [
    "is_student = True\n",
    "has_license = False\n",
    "print(\"data type of the variable is_student = \",type(is_student))\n",
    "print(\"data type of the variable has_license = \",type(has_license))"
   ]
  },
  {
   "cell_type": "code",
   "execution_count": 12,
   "id": "0b637d1c",
   "metadata": {},
   "outputs": [
    {
     "name": "stdout",
     "output_type": "stream",
     "text": [
      "Positive\n"
     ]
    }
   ],
   "source": [
    "num = 10\n",
    "if num > 0:\n",
    "    print(\"Positive\")\n",
    "elif num == 0:\n",
    "    print(\"Zero\")\n",
    "else:\n",
    "    print(\"Non-positive\")"
   ]
  },
  {
   "cell_type": "code",
   "execution_count": 13,
   "id": "c9f80241",
   "metadata": {},
   "outputs": [
    {
     "name": "stdout",
     "output_type": "stream",
     "text": [
      "Both conditions are true\n",
      "At least one condition is true\n",
      "x is not equal to 0\n"
     ]
    }
   ],
   "source": [
    "x = 5\n",
    "y = 10\n",
    "if x > 0 and y < 20:\n",
    "    print(\"Both conditions are true\")\n",
    "if x > 0 or y > 20:\n",
    "    print(\"At least one condition is true\")\n",
    "if not x == 0:\n",
    "    print(\"x is not equal to 0\")"
   ]
  },
  {
   "cell_type": "code",
   "execution_count": 14,
   "id": "d1f40c7d",
   "metadata": {},
   "outputs": [
    {
     "name": "stdout",
     "output_type": "stream",
     "text": [
      "Either a or b is False\n",
      "At least one of a or b is True\n",
      "a is True\n"
     ]
    }
   ],
   "source": [
    "# Define two boolean variables\n",
    "a = True\n",
    "b = False\n",
    "# Using the ’and’ operator\n",
    "if a and b:\n",
    "    print(\"Both a and b are True\")\n",
    "else:\n",
    "    print(\"Either a or b is False\") # This will be printed\n",
    "# Using the ’or’ operator\n",
    "if a or b:\n",
    "    print(\"At least one of a or b is True\") # This will be printed\n",
    "else:\n",
    "    print(\"Both a and b are False\")\n",
    "# Using the ’not’ operator\n",
    "if not a:\n",
    "    print(\"a is False\") # This will not be printed\n",
    "else:\n",
    "    print(\"a is True\") # This will be printed"
   ]
  },
  {
   "cell_type": "code",
   "execution_count": 15,
   "id": "f973606c",
   "metadata": {},
   "outputs": [
    {
     "name": "stdout",
     "output_type": "stream",
     "text": [
      "apple\n",
      "banana\n",
      "cherry\n",
      "Count is: 0\n",
      "Count is: 1\n",
      "Count is: 2\n",
      "Count is: 3\n",
      "Count is: 4\n",
      "loop 1\n",
      "apple\n",
      "loop 2\n",
      "banana\n",
      "orange\n"
     ]
    }
   ],
   "source": [
    "#for loop:\n",
    "fruits = [\"apple\", \"banana\",\"cherry\"]\n",
    "for fruit in fruits:\n",
    "    print(fruit)\n",
    "# While loop:\n",
    "count = 0\n",
    "while count < 5:\n",
    "    print(\"Count is:\", count)\n",
    "    count += 1\n",
    "# Break\n",
    "fruits = [\"apple\", \"banana\", \"orange\"]\n",
    "print(\"loop 1\")\n",
    "for fruit in fruits:\n",
    "    print(fruit)\n",
    "    if fruit == \"apple\":\n",
    "        break\n",
    "# Continiue\n",
    "print(\"loop 2\")\n",
    "for fruit in fruits:\n",
    "    if fruit == \"apple\":\n",
    "        continue\n",
    "    else:\n",
    "        print(fruit)"
   ]
  },
  {
   "cell_type": "code",
   "execution_count": 17,
   "id": "eb38fb54",
   "metadata": {},
   "outputs": [
    {
     "name": "stdout",
     "output_type": "stream",
     "text": [
      "Choose conversion type:\n",
      "1. Celsius to Fahrenheit\n",
      "2. Fahrenheit to Celsius\n",
      "Enter 1 or 2: 2\n",
      "Enter temperature in Fahrenheit: 24\n",
      "24.0F is equal to -4.444444444444445C\n"
     ]
    },
    {
     "data": {
      "text/plain": [
       "-4.444444444444445"
      ]
     },
     "execution_count": 17,
     "metadata": {},
     "output_type": "execute_result"
    }
   ],
   "source": [
    "def temperature_converter():\n",
    "    \"\"\"\n",
    "    Converts temperature between Celsius and Fahrenheit.\n",
    "This function prompts the user to specify the conversion type (Celsius to Fahrenheit\n",
    "or Fahrenheit to Celsius)\n",
    "and then asks for the temperature value. It calculates and returns the converted\n",
    "temperature.\n",
    "Returns:\n",
    "float: The converted temperature value.\n",
    "\"\"\"\n",
    "    print(\"Choose conversion type:\")\n",
    "    print(\"1. Celsius to Fahrenheit\")\n",
    "    print(\"2. Fahrenheit to Celsius\")\n",
    "    # Get conversion choice from user\n",
    "    choice = input(\"Enter 1 or 2: \")\n",
    "    if choice == \"1\":\n",
    "    # Celsius to Fahrenheit conversion\n",
    "        celsius = float(input(\"Enter temperature in Celsius: \"))\n",
    "        fahrenheit = (celsius * 9/5) + 32\n",
    "        print(f\"{celsius}C is equal to {fahrenheit}F\")\n",
    "        return fahrenheit\n",
    "    elif choice == \"2\":\n",
    "        # Fahrenheit to Celsius conversion\n",
    "        fahrenheit = float(input(\"Enter temperature in Fahrenheit: \"))\n",
    "        celsius = (fahrenheit - 32) * 5/9\n",
    "        print(f\"{fahrenheit}F is equal to {celsius}C\")\n",
    "        return celsius\n",
    "    else:\n",
    "        print(\"Invalid choice. Please enter 1 or 2.\")\n",
    "        return None\n",
    "# Call the function\n",
    "temperature_converter()"
   ]
  },
  {
   "cell_type": "markdown",
   "id": "237a0741",
   "metadata": {},
   "source": [
    "## <font color='red'>1. TODO Task</font>"
   ]
  },
  {
   "cell_type": "markdown",
   "id": "c3b5a3bf",
   "metadata": {},
   "source": [
    "### Task 1. Classify Temperatures"
   ]
  },
  {
   "cell_type": "code",
   "execution_count": 18,
   "id": "d70e149f",
   "metadata": {},
   "outputs": [
    {
     "name": "stdout",
     "output_type": "stream",
     "text": [
      "Cold temperatures: [8.2, 7.9, 9.0, 8.5, 7.7, 8.4, 9.5, 8.1, 7.6, 8.0, 7.8, 8.7, 9.2, 8.3, 8.9, 7.8]\n",
      "Mild temperatures: [14.1, 13.5, 13.0, 12.9, 13.3, 14.0, 13.4, 14.2, 12.8, 13.7, 13.6, 13.8, 13.9, 12.7, 13.1, 12.5]\n",
      "Comf temperatures: [17.4, 18.0, 17.8, 16.5, 17.2, 16.7, 18.3, 17.9, 17.0, 16.8, 17.5, 17.1, 18.1, 16.4, 18.2, 16.6]\n"
     ]
    }
   ],
   "source": [
    "temperatures = [8.2, 17.4, 14.1, 7.9, 18.0, 13.5, 9.0, 17.8, 13.0, 8.5,\n",
    "16.5, 12.9, 7.7, 17.2, 13.3, 8.4, 16.7, 14.0, 9.5, 18.3, 13.4, 8.1,\n",
    "17.9, 14.2, 7.6, 17.0, 12.8, 8.0, 16.8, 13.7, 7.8, 17.5, 13.6, 8.7,\n",
    "17.1, 13.8, 9.2, 18.1, 13.9, 8.3, 16.4, 12.7, 8.9, 18.2, 13.1, 7.8,\n",
    "16.6, 12.5]\n",
    "cold_temp=[]\n",
    "mild_temp=[]\n",
    "comf_temp=[]\n",
    "for i in temperatures:\n",
    "    if(i>15 and i<=20):\n",
    "        comf_temp.append(i)\n",
    "    elif(i>10 and i<=15):\n",
    "        mild_temp.append(i)\n",
    "    else:\n",
    "        cold_temp.append(i)\n",
    "print(f\"Cold temperatures: {cold_temp}\")\n",
    "print(f\"Mild temperatures: {mild_temp}\")\n",
    "print(f\"Comf temperatures: {comf_temp}\")"
   ]
  },
  {
   "cell_type": "markdown",
   "id": "fb79bf58",
   "metadata": {},
   "source": [
    "### Task 2. "
   ]
  },
  {
   "cell_type": "code",
   "execution_count": 19,
   "id": "509103b4",
   "metadata": {},
   "outputs": [
    {
     "name": "stdout",
     "output_type": "stream",
     "text": [
      "It was cold 16 times\n",
      "It was mild 16 times\n",
      "It was comfortable 16 times\n"
     ]
    }
   ],
   "source": [
    "c=0\n",
    "for i in cold_temp:\n",
    "    c+=1\n",
    "print(f\"It was cold {c} times\")\n",
    "print(f\"It was mild {len(mild_temp)} times\")\n",
    "print(f\"It was comfortable {len(comf_temp)} times\")"
   ]
  },
  {
   "cell_type": "markdown",
   "id": "66fbf9c2",
   "metadata": {},
   "source": [
    "### Task 3. Convert Temperatures from Celsius to Fahrenheit"
   ]
  },
  {
   "cell_type": "code",
   "execution_count": 20,
   "id": "7078bf04",
   "metadata": {},
   "outputs": [
    {
     "name": "stdout",
     "output_type": "stream",
     "text": [
      "Temperature in Fahrenheit: [46.76, 63.31999999999999, 57.379999999999995, 46.22, 64.4, 56.3, 48.2, 64.03999999999999, 55.400000000000006, 47.3, 61.7, 55.22, 45.86, 62.96, 55.94, 47.120000000000005, 62.06, 57.2, 49.1, 64.94, 56.120000000000005, 46.58, 64.22, 57.56, 45.68, 62.6, 55.040000000000006, 46.4, 62.24, 56.66, 46.04, 63.5, 56.480000000000004, 47.66, 62.78, 56.84, 48.56, 64.58000000000001, 57.019999999999996, 46.94, 61.519999999999996, 54.86, 48.019999999999996, 64.75999999999999, 55.58, 46.04, 61.88, 54.5]\n"
     ]
    }
   ],
   "source": [
    "temperatures_fahrenheit=[]\n",
    "for i in temperatures:\n",
    "    temperatures_fahrenheit.append((i*(9/5))+32)\n",
    "print(f\"Temperature in Fahrenheit: {temperatures_fahrenheit}\")"
   ]
  },
  {
   "cell_type": "markdown",
   "id": "18c10367",
   "metadata": {},
   "source": [
    "### Task 4. Analyze Temperature Patterns by Time of Day"
   ]
  },
  {
   "cell_type": "code",
   "execution_count": 21,
   "id": "a1951e2a",
   "metadata": {},
   "outputs": [
    {
     "name": "stdout",
     "output_type": "stream",
     "text": [
      "Night Temperatures: [8.2, 7.9, 9.0, 8.5, 7.7, 8.4, 9.5, 8.1, 7.6, 8.0, 7.8, 8.7, 9.2, 8.3, 8.9, 7.8]\n",
      "Evening Temperatures: [17.4, 18.0, 17.8, 16.5, 17.2, 16.7, 18.3, 17.9, 17.0, 16.8, 17.5, 17.1, 18.1, 16.4, 18.2, 16.6]\n",
      "Day Temperatures: [14.1, 13.5, 13.0, 12.9, 13.3, 14.0, 13.4, 14.2, 12.8, 13.7, 13.6, 13.8, 13.9, 12.7, 13.1, 12.5]\n"
     ]
    }
   ],
   "source": [
    "night_temp=[]\n",
    "eve_temp=[]\n",
    "day_temp=[]\n",
    "for i in range(0,len(temperatures),3):\n",
    "    night_temp.append(temperatures[i])\n",
    "    eve_temp.append(temperatures[i+1])\n",
    "    day_temp.append(temperatures[i+2])\n",
    "print(f\"Night Temperatures: {night_temp}\")\n",
    "print(f\"Evening Temperatures: {eve_temp}\")\n",
    "print(f\"Day Temperatures: {day_temp}\")"
   ]
  },
  {
   "cell_type": "code",
   "execution_count": 22,
   "id": "1fa57487",
   "metadata": {},
   "outputs": [
    {
     "name": "stdout",
     "output_type": "stream",
     "text": [
      "Average day-time temperature is 13.40625\n"
     ]
    }
   ],
   "source": [
    "print(f\"Average day-time temperature is {sum(day_temp)/len(day_temp)}\")"
   ]
  },
  {
   "cell_type": "code",
   "execution_count": 23,
   "id": "bc518a8f",
   "metadata": {},
   "outputs": [
    {
     "data": {
      "image/png": "[encoded data removed]",
      "text/plain": [
       "<Figure size 640x480 with 1 Axes>"
      ]
     },
     "metadata": {},
     "output_type": "display_data"
    }
   ],
   "source": [
    "import matplotlib.pyplot as plt\n",
    "days=range(1,17)\n",
    "plt.plot(days,day_temp,marker='o')\n",
    "plt.xlabel(\"Day\")\n",
    "plt.ylabel(\"Temperatures\")\n",
    "plt.title(\"Day vs Temperatures\")\n",
    "plt.grid()\n",
    "plt.show()"
   ]
  },
  {
   "cell_type": "markdown",
   "id": "894f98c9",
   "metadata": {},
   "source": [
    "## <font color='red'>2. Problem based on Popular Algorithm- Recursion</font>"
   ]
  },
  {
   "cell_type": "markdown",
   "id": "7cdc5773",
   "metadata": {},
   "source": [
    "### <font color='red'>2.1. Recursion</font>"
   ]
  },
  {
   "cell_type": "markdown",
   "id": "5e37db47",
   "metadata": {},
   "source": [
    "### Task 1. Sum of Nested Lists"
   ]
  },
  {
   "cell_type": "code",
   "execution_count": 24,
   "id": "107548eb",
   "metadata": {},
   "outputs": [
    {
     "name": "stdout",
     "output_type": "stream",
     "text": [
      "The sum of nested list is 36\n"
     ]
    }
   ],
   "source": [
    "nested_list = [1, [2, [3, 4], 5], 6, [7, 8]]\n",
    "def sum_nested_list(nested_list):\n",
    "    fsum=0\n",
    "    for i in nested_list:\n",
    "        if type(i) is list:\n",
    "            fsum+=sum_nested_list(i)\n",
    "        else:\n",
    "            fsum+=i\n",
    "    return fsum\n",
    "print(f\"The sum of nested list is {sum_nested_list(nested_list)}\")"
   ]
  },
  {
   "cell_type": "markdown",
   "id": "a1ba7ff1",
   "metadata": {},
   "source": [
    "### Task 2. Generate All Permutations of a String"
   ]
  },
  {
   "cell_type": "code",
   "execution_count": 25,
   "id": "98cb67bb",
   "metadata": {},
   "outputs": [
    {
     "name": "stdout",
     "output_type": "stream",
     "text": [
      "abc\n",
      "acb\n",
      "bac\n",
      "bca\n",
      "cba\n",
      "cab\n",
      "None\n"
     ]
    }
   ],
   "source": [
    "def generate_permutations(s, i=0):\n",
    "\n",
    "    if i == len(s):   \n",
    "        print(\"\".join(s))\n",
    "\n",
    "    for j in range(i, len(s)):\n",
    "\n",
    "        words = [c for c in s]\n",
    "   \n",
    "        # swap\n",
    "        words[i], words[j] = words[j], words[i]\n",
    "    \n",
    "        generate_permutations(words, i + 1)\n",
    "\n",
    "print(generate_permutations('abc'))"
   ]
  },
  {
   "cell_type": "markdown",
   "id": "826559df",
   "metadata": {},
   "source": [
    "### Task 3. Directory Size Calculation"
   ]
  },
  {
   "cell_type": "code",
   "execution_count": 26,
   "id": "d9d8ce7c",
   "metadata": {},
   "outputs": [
    {
     "name": "stdout",
     "output_type": "stream",
     "text": [
      "The total size of directory is 1400\n"
     ]
    }
   ],
   "source": [
    "directory_structure = {\n",
    "    \"file1.txt\": 200,\n",
    "    \"file2.txt\": 300,\n",
    "    \"subdir1\": {\n",
    "        \"file3.txt\": 400,\n",
    "        \"file4.txt\": 100\n",
    "    },\n",
    "    \"subdir2\": {\n",
    "        \"subsubdir1\": {\n",
    "            \"file5.txt\": 250\n",
    "        },\n",
    "        \"file6.txt\": 150\n",
    "    }\n",
    "}\n",
    "def  calculate_directory_size(dir):\n",
    "    fsum=0\n",
    "    for i in dir:\n",
    "        if type(dir[i]) is dict:\n",
    "            fsum+= calculate_directory_size(dir[i])\n",
    "        else:\n",
    "            fsum+=dir[i]\n",
    "    return fsum\n",
    "print(f\"The total size of directory is { calculate_directory_size(directory_structure)}\")"
   ]
  },
  {
   "cell_type": "markdown",
   "id": "71a9be73",
   "metadata": {},
   "source": [
    "### <font color='red'>2.2. Dynamic Programming</font>"
   ]
  },
  {
   "cell_type": "markdown",
   "id": "ada0981b",
   "metadata": {},
   "source": [
    "### Task 1. Coin Change Problem"
   ]
  },
  {
   "cell_type": "code",
   "execution_count": 27,
   "id": "73589d9b",
   "metadata": {},
   "outputs": [
    {
     "name": "stdout",
     "output_type": "stream",
     "text": [
      "3\n"
     ]
    }
   ],
   "source": [
    "coins=[1,2,5]\n",
    "amount=11\n",
    "def min_coins(coins,amount):\n",
    "    dp=[float('inf')]*(amount+1)\n",
    "    dp[0]=0\n",
    "    for coin in coins:\n",
    "        for i in range(coin,amount+1):\n",
    "            dp[i]=min(dp[i],dp[i-coin]+1)\n",
    "    return dp[amount] if dp[amount]!=float('inf') else -1\n",
    "print(f\"{min_coins(coins,amount)}\")"
   ]
  },
  {
   "cell_type": "markdown",
   "id": "4995974d",
   "metadata": {},
   "source": [
    "### Task 2. Longest Common Subsequence"
   ]
  },
  {
   "cell_type": "code",
   "execution_count": 28,
   "id": "dc558b8f",
   "metadata": {},
   "outputs": [
    {
     "data": {
      "text/plain": [
       "3"
      ]
     },
     "execution_count": 28,
     "metadata": {},
     "output_type": "execute_result"
    }
   ],
   "source": [
    "string1=\"abcde\"\n",
    "string2=\"ace\"\n",
    "def longest_common_subsequence(s1,s2):\n",
    "    dp=[[0 for j in range(len(s2)+1)] for i in range(len(s1)+1)] \n",
    "    for i in range(len(s1) -1,-1,-1):\n",
    "        for j in range(len(s2) -1,-1,-1):\n",
    "            if s1[i]==s2[j]:\n",
    "                dp[i][j]=1+dp[i+1][j+1]\n",
    "            else:\n",
    "                dp[i][j]=max(dp[i][j+1],dp[i+1][j])\n",
    "    return dp[0][0]\n",
    "longest_common_subsequence(string1,string2)"
   ]
  },
  {
   "cell_type": "markdown",
   "id": "eeb9c0d6",
   "metadata": {},
   "source": [
    "### Task 3. Knapsack Problem"
   ]
  },
  {
   "cell_type": "code",
   "execution_count": 30,
   "id": "fb85bc04",
   "metadata": {},
   "outputs": [
    {
     "data": {
      "text/plain": [
       "9"
      ]
     },
     "execution_count": 30,
     "metadata": {},
     "output_type": "execute_result"
    }
   ],
   "source": [
    "weights=[1,3,4,5]\n",
    "values=[1,4,5,7]\n",
    "capacity=7\n",
    "def knapsack(weights, values, capacity):\n",
    "    n = len(weights)\n",
    "    dp = [[0] * (capacity + 1) for _ in range(n + 1)]\n",
    "\n",
    "    for i in range(1, n + 1):\n",
    "        for w in range(capacity + 1):\n",
    "            if weights[i - 1] <= w:\n",
    "                dp[i][w] = max(values[i - 1] + dp[i - 1][w - weights[i - 1]], dp[i - 1][w])\n",
    "            else:\n",
    "                dp[i][w] = dp[i - 1][w]\n",
    "\n",
    "    return dp[n][capacity]\n",
    "knapsack(weights, values, capacity)"
   ]
  }
 ],
 "metadata": {
  "kernelspec": {
   "display_name": "Python 3 (ipykernel)",
   "language": "python",
   "name": "python3"
  },
  "language_info": {
   "codemirror_mode": {
    "name": "ipython",
    "version": 3
   },
   "file_extension": ".py",
   "mimetype": "text/x-python",
   "name": "python",
   "nbconvert_exporter": "python",
   "pygments_lexer": "ipython3",
   "version": "3.11.7"
  }
 },
 "nbformat": 4,
 "nbformat_minor": 5
}
