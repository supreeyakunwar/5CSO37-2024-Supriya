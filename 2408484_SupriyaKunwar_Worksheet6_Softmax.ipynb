{
  "nbformat": 4,
  "nbformat_minor": 0,
  "metadata": {
    "colab": {
      "provenance": []
    },
    "kernelspec": {
      "name": "python3",
      "display_name": "Python 3"
    },
    "language_info": {
      "name": "python"
    }
  },
  "cells": [
    {
      "cell_type": "markdown",
      "source": [
        "##4.1 Building and Testing Helper Function:\n",
        "1. Implementing Softmax Function:"
      ],
      "metadata": {
        "id": "_e3laCEdK68Q"
      }
    },
    {
      "cell_type": "code",
      "source": [
        "import numpy as np"
      ],
      "metadata": {
        "id": "h_jP24keNxwS"
      },
      "execution_count": 1,
      "outputs": []
    },
    {
      "cell_type": "code",
      "execution_count": 2,
      "metadata": {
        "id": "vnncRCBDKqAw"
      },
      "outputs": [],
      "source": [
        "def softmax(z):\n",
        "  \"\"\"\n",
        "  Compute the softmax of a 2D numpy array along the specified axis.\n",
        "  Parameters:\n",
        "  z (numpy.ndarray): Input array of shape (m, n) where m is the number of samples\n",
        "\n",
        "  and n is the number of classes.\n",
        "\n",
        "  Returns:\n",
        "  numpy.ndarray: Softmax probabilities of the same shape as input (m, n), where\n",
        "  each row sums to 1 and represents the probability distribution\n",
        "  over classes for a sample.\n",
        "\n",
        "  Notes:\n",
        "  - Applies a normalization trick to prevent numerical instability by subtracting\n",
        "  the max value in each row before exponentiation.\n",
        "  \"\"\"\n",
        "  # Normalize input to prevent numerical instability\n",
        "  exp_z = np.exp(z - np.max(z, axis=1, keepdims=True))\n",
        "  return exp_z / np.sum(exp_z, axis=1, keepdims=True)"
      ]
    },
    {
      "cell_type": "code",
      "source": [
        "from google.colab import drive\n",
        "drive.mount('/content/drive')"
      ],
      "metadata": {
        "id": "1aD5fcAgN1ua",
        "colab": {
          "base_uri": "https://localhost:8080/"
        },
        "outputId": "6658f540-aca7-4e3f-8501-0d7599cf03cc"
      },
      "execution_count": 3,
      "outputs": [
        {
          "output_type": "stream",
          "name": "stdout",
          "text": [
            "Drive already mounted at /content/drive; to attempt to forcibly remount, call drive.mount(\"/content/drive\", force_remount=True).\n"
          ]
        }
      ]
    },
    {
      "cell_type": "code",
      "source": [
        "def test_softmax():\n",
        "  \"\"\"\n",
        "  Perform basic assertion tests on the softmax function to validate its correctness.\n",
        "  Tests:\n",
        "  - Ensure that the output probabilities sum to 1 for each row.\n",
        "  - Ensure non-negative values (all probabilities should be >= 0).\n",
        "  - Test on edge cases (e.g., all zeros, very large or small values).\n",
        "  \"\"\"\n",
        "  # Test input\n",
        "  test_cases = [\n",
        "  (np.array([[0, 0, 0]]), \"All zeros\"),\n",
        "  (np.array([[1, 2, 3]]), \"Simple case\"),\n",
        "  (np.array([[1000, 1000, 1000]]), \"Large identical values\"),\n",
        "  (np.array([[-1000, -1000, -1000]]), \"Small identical values\"),\n",
        "  (np.array([[1, 0, -1]]), \"Mixed positive and negative\")\n",
        "  ]\n",
        "  for i, (z, description) in enumerate(test_cases):\n",
        "    print(f\"Test {i + 1}: {description}\")\n",
        "    result = softmax(z)\n",
        "    # Check that probabilities sum to 1\n",
        "    assert np.allclose(result.sum(axis=1), 1), f\"Failed: Probabilities do not sum to 1 in {description}\"\n",
        "    # Check non-negativity\n",
        "    assert np.all(result >= 0), f\"Failed: Negative probabilities in {description}\"\n",
        "    print(\"Passed.\")\n",
        "  print(\"All tests passed for softmax function.\")\n",
        "test_softmax()"
      ],
      "metadata": {
        "colab": {
          "base_uri": "https://localhost:8080/"
        },
        "id": "LCq5JYYnPsYQ",
        "outputId": "52aaf518-f8d8-4f87-d8e5-c724d5de08bf"
      },
      "execution_count": 4,
      "outputs": [
        {
          "output_type": "stream",
          "name": "stdout",
          "text": [
            "Test 1: All zeros\n",
            "Passed.\n",
            "Test 2: Simple case\n",
            "Passed.\n",
            "Test 3: Large identical values\n",
            "Passed.\n",
            "Test 4: Small identical values\n",
            "Passed.\n",
            "Test 5: Mixed positive and negative\n",
            "Passed.\n",
            "All tests passed for softmax function.\n"
          ]
        }
      ]
    },
    {
      "cell_type": "markdown",
      "source": [
        "2. Implementing Categorical Log-Loss Function:\n"
      ],
      "metadata": {
        "id": "0oepDHMIQNal"
      }
    },
    {
      "cell_type": "code",
      "source": [
        "# Loss Function for a Single Observation\n",
        "def loss_softmax(y_true, y_pred):\n",
        "  \"\"\"\n",
        "  Compute the cross-entropy loss for a single observation.\n",
        "  Parameters:\n",
        "  y_true (numpy.ndarray): True labels (one-hot encoded) of shape (c,).\n",
        "  y_pred (numpy.ndarray): Predicted probabilities of shape (c,).\n",
        "  Returns:\n",
        "  float: Cross-entropy loss for the observation.\n",
        "  \"\"\"\n",
        "  return -np.sum(y_true * np.log(y_pred + 1e-10)) # Add epsilon to prevent log(0)"
      ],
      "metadata": {
        "id": "ebXEAZXIQFj6"
      },
      "execution_count": 5,
      "outputs": []
    },
    {
      "cell_type": "code",
      "source": [
        "def test_loss_softmax():\n",
        "  \"\"\"\n",
        "  Test the loss_softmax function using a known input and output.\n",
        "  \"\"\"\n",
        "  # Test Case 1: Perfect prediction\n",
        "  y_true = np.array([0, 1, 0]) # True label (one-hot encoded)\n",
        "  y_pred = np.array([0.1, 0.8, 0.1]) # Predicted probabilities\n",
        "  expected_loss = -np.log(0.8) # Expected loss for perfect prediction\n",
        "  assert np.isclose(loss_softmax(y_true, y_pred), expected_loss), \"Test Case 1 Failed\"\n",
        "\n",
        "  # Test Case 2: Incorrect prediction\n",
        "  y_true = np.array([1, 0, 0]) # True label (one-hot encoded)\n",
        "  y_pred = np.array([0.3, 0.4, 0.3]) # Predicted probabilities\n",
        "  expected_loss = -np.log(0.3) # Expected loss for incorrect prediction\n",
        "  assert np.isclose(loss_softmax(y_true, y_pred), expected_loss), \"Test Case 2 Failed\"\n",
        "\n",
        "  # Test Case 3: Edge case with near-zero probability\n",
        "  y_true = np.array([0, 1, 0]) # True label (one-hot encoded)\n",
        "  y_pred = np.array([0.01, 0.98, 0.01]) # Predicted probabilities\n",
        "  expected_loss = -np.log(0.98) # Expected loss for edge case\n",
        "  assert np.isclose(loss_softmax(y_true, y_pred), expected_loss), \"Test Case 3 Failed\"\n",
        "  print(\"All test cases passed!\")\n",
        "\n",
        "# Run the test\n",
        "test_loss_softmax()"
      ],
      "metadata": {
        "colab": {
          "base_uri": "https://localhost:8080/"
        },
        "id": "pdJ55xxBSj17",
        "outputId": "03327cfc-44b1-4bfc-905d-671e483d278d"
      },
      "execution_count": 6,
      "outputs": [
        {
          "output_type": "stream",
          "name": "stdout",
          "text": [
            "All test cases passed!\n"
          ]
        }
      ]
    },
    {
      "cell_type": "code",
      "source": [
        "def cost_softmax(X, y, W, b):\n",
        "  \"\"\"\n",
        "  Compute the average cross-entropy cost over all samples.\n",
        "  Parameters:\n",
        "  X (numpy.ndarray): Feature matrix of shape (n, d).\n",
        "  y (numpy.ndarray): True labels (one-hot encoded) of shape (n, c).\n",
        "  W (numpy.ndarray): Weight matrix of shape (d, c).\n",
        "  b (numpy.ndarray): Bias vector of shape (c,).\n",
        "  Returns:\n",
        "  float: Average cross-entropy cost over all samples.\n",
        "  \"\"\"\n",
        "  n, d = X.shape #n = number of rows and d = number of columns\n",
        "  z = np.dot(X, W) + b\n",
        "  y_pred = softmax(z)\n",
        "  return -np.sum(y * np.log(y_pred + 1e-10)) / n"
      ],
      "metadata": {
        "id": "I7ECo9NcWAhI"
      },
      "execution_count": 7,
      "outputs": []
    },
    {
      "cell_type": "code",
      "source": [
        "def test_cost_softmax():\n",
        "  \"\"\"\n",
        "  Test the cost_softmax function using a known input and output.\n",
        "  \"\"\"\n",
        "  # Test Case 1: Small dataset with perfect predictions\n",
        "  X = np.array([[1, 2], [2, 3], [3, 4]]) # Feature matrix (n=3, d=2)\n",
        "  y = np.array([[1, 0], [0, 1], [1, 0]]) # True labels (n=3, c=2, one-hot encoded)\n",
        "  W = np.array([[1, -1], [-1, 1]]) # Weight matrix (d=2, c=2)\n",
        "  b = np.array([0, 0]) # Bias vector (c=2)\n",
        "  z = np.dot(X, W) + b\n",
        "  y_pred = softmax(z) # Predicted probabilities\n",
        "  expected_cost = -np.sum(y * np.log(y_pred + 1e-10)) / X.shape[0] # Compute expected cost\n",
        "  assert np.isclose(cost_softmax(X, y, W, b), expected_cost), \"Test Case 1 Failed\"\n",
        "\n",
        "  # Test Case 2: All-zero weights and bias\n",
        "  X = np.array([[1, 0], [0, 1], [1, 1]]) # Feature matrix (n=3, d=2)\n",
        "  y = np.array([[1, 0], [0, 1], [1, 0]]) # True labels (n=3, c=2, one-hot encoded)\n",
        "  W = np.zeros((2, 2)) # Zero weight matrix\n",
        "  b = np.zeros(2) # Zero bias vector\n",
        "  z = np.dot(X, W) + b\n",
        "  y_pred = softmax(z) # Predicted probabilities (uniform distribution)\n",
        "  expected_cost = -np.sum(y * np.log(y_pred + 1e-10)) / X.shape[0] # Compute expected cost\n",
        "  assert np.isclose(cost_softmax(X, y, W, b), expected_cost), \"Test Case 2 Failed\"\n",
        "  print(\"All test cases passed!\")\n",
        "\n",
        "# Run the test\n",
        "test_cost_softmax()"
      ],
      "metadata": {
        "colab": {
          "base_uri": "https://localhost:8080/"
        },
        "id": "O0CN3Gqyb1Z8",
        "outputId": "958641ec-6ee9-4280-eb63-ee41b5b76baf"
      },
      "execution_count": 8,
      "outputs": [
        {
          "output_type": "stream",
          "name": "stdout",
          "text": [
            "All test cases passed!\n"
          ]
        }
      ]
    },
    {
      "cell_type": "markdown",
      "source": [
        "##4. Implementing Gradient Descent for Training Softmax Regression:\n",
        "#4.1 Gradients for Softmax Regression:"
      ],
      "metadata": {
        "id": "hKrTmuE9eAuC"
      }
    },
    {
      "cell_type": "code",
      "source": [
        "# Gradient Computation\n",
        "def compute_gradient_softmax(X, y, W, b):\n",
        "  \"\"\"\n",
        "  Compute the gradients of the cost function with respect to weights and biases.\n",
        "  Parameters:\n",
        "  X (numpy.ndarray): Feature matrix of shape (n, d).\n",
        "  y (numpy.ndarray): True labels (one-hot encoded) of shape (n, c).\n",
        "  W (numpy.ndarray): Weight matrix of shape (d, c).\n",
        "  b (numpy.ndarray): Bias vector of shape (c,).\n",
        "  Returns:\n",
        "  tuple: Gradients with respect to weights (d, c) and biases (c,).\n",
        "  \"\"\"\n",
        "  n, d = X.shape\n",
        "  z = np.dot(X, W) + b #raw output scores (also known as logits) produced by the linear combination of input features, weights and biases\n",
        "  y_pred = softmax(z)\n",
        "  grad_W = np.dot(X.T, (y_pred - y)) / n #gradient of w\n",
        "  grad_b = np.sum(y_pred - y,axis=0)/n #gradient of b\n",
        "  return grad_W,grad_b"
      ],
      "metadata": {
        "id": "SCZdEg5xcD9K"
      },
      "execution_count": 35,
      "outputs": []
    },
    {
      "cell_type": "code",
      "source": [
        "# Test function\n",
        "def test_compute_gradient_softmax():\n",
        "  # Define simple inputs\n",
        "  X = np.array([[1, 2], [3, 4]]) # Shape (2, 2)\n",
        "  y = np.array([[1, 0], [0, 1]]) # Shape (2, 2), one-hot encoded\n",
        "  W = np.array([[0.1, 0.2], [0.3, 0.4]]) # Shape (2, 2)\n",
        "  b = np.array([0.01, 0.02]) # Shape (2,)\n",
        "\n",
        "  # Expected gradients (calculated manually or using a reference implementation)\n",
        "  z = np.dot(X, W) + b\n",
        "  y_pred = softmax(z)\n",
        "  grad_W_expected = np.dot(X.T, (y_pred - y)) / X.shape[0]\n",
        "  grad_b_expected = np.sum(y_pred - y, axis=0) / X.shape[0]\n",
        "\n",
        "  # Compute gradients using the function\n",
        "  grad_W, grad_b = compute_gradient_softmax(X, y, W, b)\n",
        "\n",
        "  # Assertions\n",
        "  assert np.allclose(grad_W, grad_W_expected, atol=1e-6), \"Gradient W does not match expected values\"\n",
        "  assert np.allclose(grad_b, grad_b_expected, atol=1e-6), \"Gradient b does not match expected values\"\n",
        "  print(\"All tests passed for compute_gradient_softmax!\")\n",
        "# Run the test\n",
        "test_compute_gradient_softmax()"
      ],
      "metadata": {
        "colab": {
          "base_uri": "https://localhost:8080/"
        },
        "id": "K5TKzIVKeNwq",
        "outputId": "02715777-e324-4d08-a40d-52955da0ee7a"
      },
      "execution_count": 37,
      "outputs": [
        {
          "output_type": "stream",
          "name": "stdout",
          "text": [
            "All tests passed for compute_gradient_softmax!\n"
          ]
        }
      ]
    },
    {
      "cell_type": "markdown",
      "source": [
        "#4.2 Gradient Descent for Softmax Regression:"
      ],
      "metadata": {
        "id": "Mlg79AkUqXYh"
      }
    },
    {
      "cell_type": "code",
      "source": [
        "# Gradient Descent\n",
        "def gradient_descent_softmax(X, y, W, b, alpha, n_iter, show_cost=False):\n",
        "  \"\"\"\n",
        "  Perform gradient descent to optimize the weights and biases.\n",
        "  Parameters:\n",
        "  X (numpy.ndarray): Feature matrix of shape (n, d).\n",
        "  y (numpy.ndarray): True labels (one-hot encoded) of shape (n, c).\n",
        "  W (numpy.ndarray): Weight matrix of shape (d, c).\n",
        "  b (numpy.ndarray): Bias vector of shape (c,).\n",
        "  alpha (float): Learning rate.\n",
        "  n_iter (int): Number of iterations.\n",
        "  show_cost (bool): Whether to display the cost at intervals.\n",
        "  Returns:\n",
        "  tuple: Optimized weights, biases, and cost history.\n",
        "  \"\"\"\n",
        "  cost_history = [] #an empty list to store cost for each iteration\n",
        "  for i in range(n_iter):\n",
        "    grad_W, grad_b = compute_gradient_softmax(X, y, W, b)\n",
        "    W -= alpha * grad_W #computing updated value of w\n",
        "    b -= alpha * grad_b #computing updated value of b\n",
        "    cost = cost_softmax(X, y, W, b)\n",
        "    cost_history.append(cost) #appending the cost obtained from cost function to cost history\n",
        "    if show_cost and (i % 100 == 0 or i == n_iter - 1):\n",
        "      print(f\"Iteration {i}: Cost = {cost:.6f}\")\n",
        "  return W, b, cost_history"
      ],
      "metadata": {
        "id": "ymUAwbPWqFDU"
      },
      "execution_count": 11,
      "outputs": []
    },
    {
      "cell_type": "code",
      "source": [
        "# To test a Gradient Descent we plot the Cost vs. Iterations and observe the behaviour and flow of the plot.\n",
        "import matplotlib.pyplot as plt\n",
        "def test_gradient_descent_softmax_with_plot():\n",
        "  # Generate synthetic data for testing\n",
        "  np.random.seed(0)\n",
        "  n, d, c = 100, 5, 3 # 100 samples, 5 features, 3 classes\n",
        "  X = np.random.rand(n, d)\n",
        "  y_indices = np.random.randint(0, c, size=n)\n",
        "  y = np.zeros((n, c))\n",
        "  y[np.arange(n), y_indices] = 1 # One-hot encoding\n",
        "\n",
        "  # Initialize weights and biases\n",
        "  W = np.random.rand(d, c)\n",
        "  b = np.random.rand(c)\n",
        "\n",
        "  # Parameters for gradient descent\n",
        "  alpha = 0.01 # Learning rate\n",
        "  n_iter = 500 # Number of iterations\n",
        "\n",
        "  # Run gradient descent\n",
        "  W_opt, b_opt, cost_history = gradient_descent_softmax(X, y, W, b, alpha, n_iter, show_cost=False)\n",
        "\n",
        "  # Plot the cost history\n",
        "  plt.figure(figsize=(8, 6))\n",
        "  plt.plot(range(n_iter), cost_history, label=\"Cost\")\n",
        "  plt.xlabel(\"Iteration\")\n",
        "  plt.ylabel(\"Cost\")\n",
        "  plt.title(\"Cost Reduction Over Iterations (Learning Rate: {alpha})\")\n",
        "  plt.legend()\n",
        "  plt.grid()\n",
        "  plt.show()\n",
        "\n",
        "  # Final cost should ideally be less than initial cost\n",
        "  print(f\"Initial Cost: {cost_history[0]}\")\n",
        "  print(f\"Final Cost: {cost_history[-1]}\")\n",
        "\n",
        "test_gradient_descent_softmax_with_plot()"
      ],
      "metadata": {
        "colab": {
          "base_uri": "https://localhost:8080/",
          "height": 600
        },
        "id": "eZFiruCqsKuX",
        "outputId": "3ec745b3-d0c7-4164-81e0-f448079a1a27"
      },
      "execution_count": 12,
      "outputs": [
        {
          "output_type": "display_data",
          "data": {
            "text/plain": [
              "<Figure size 800x600 with 1 Axes>"
            ],
            "image/png": "[encoded data removed]"
          },
          "metadata": {}
        },
        {
          "output_type": "stream",
          "name": "stdout",
          "text": [
            "Initial Cost: 1.1158608479596404\n",
            "Final Cost: 1.0892233754862581\n"
          ]
        }
      ]
    },
    {
      "cell_type": "markdown",
      "source": [
        "##5. Decision/Prediction Function for Softmax Regression for Multi-class Classification:"
      ],
      "metadata": {
        "id": "v4uEOwXHtnej"
      }
    },
    {
      "cell_type": "code",
      "source": [
        "# Prediction Function\n",
        "def predict_softmax(X, W, b):\n",
        "  \"\"\"\n",
        "  Predict the class labels for input data.\n",
        "  Parameters:\n",
        "  X (numpy.ndarray): Feature matrix of shape (n, d).\n",
        "  W (numpy.ndarray): Weight matrix of shape (d, c).\n",
        "  b (numpy.ndarray): Bias vector of shape (c,).\n",
        "  Returns:\n",
        "  numpy.ndarray: Predicted class labels of shape (n,).\n",
        "  \"\"\"\n",
        "  z = np.dot(X, W) + b\n",
        "  y_pred = softmax(z)\n",
        "  return np.argmax(y_pred, axis=1) #pick the index of the highest probability in each row"
      ],
      "metadata": {
        "id": "TzPjrxj9teIn"
      },
      "execution_count": 13,
      "outputs": []
    },
    {
      "cell_type": "code",
      "source": [
        "def test_predict_softmax():\n",
        "  # Generate synthetic data for testing\n",
        "  np.random.seed(0)\n",
        "  n, d, c = 10, 5, 3 # 10 samples, 5 features, 3 classes\n",
        "  X = np.random.rand(n, d)\n",
        "  W = np.random.rand(d, c)\n",
        "  b = np.random.rand(c)\n",
        "\n",
        "  # Compute the predictions using the function\n",
        "  predictions = predict_softmax(X, W, b)\n",
        "\n",
        "  # Check the shape of the output\n",
        "  assert predictions.shape == (n,), f\"Shape mismatch: expected {(n,)}, got {predictions.shape}\"\n",
        "\n",
        "  # Verify that all predicted labels are within the range of class indices\n",
        "  assert np.all(predictions >= 0) and np.all(predictions < c), (f\"Predictions out of range: expected 0 to {c-1}, got {predictions}\")\n",
        "\n",
        "  # Check that the predicted labels are integers\n",
        "  assert np.issubdtype(predictions.dtype, np.integer), f\"Predictions are not integers: {predictions.dtype}\"\n",
        "  print(\"All tests passed for predict_softmax!\")\n",
        "# Run the test\n",
        "test_predict_softmax()"
      ],
      "metadata": {
        "colab": {
          "base_uri": "https://localhost:8080/"
        },
        "id": "A0vqmn7ZuFfz",
        "outputId": "a80695fe-d035-4524-a93b-9e82af2e7ae0"
      },
      "execution_count": 14,
      "outputs": [
        {
          "output_type": "stream",
          "name": "stdout",
          "text": [
            "All tests passed for predict_softmax!\n"
          ]
        }
      ]
    },
    {
      "cell_type": "markdown",
      "source": [
        "##7. Evaluating Classifier:"
      ],
      "metadata": {
        "id": "fH1bxa2BBPId"
      }
    },
    {
      "cell_type": "code",
      "source": [
        "# Evaluation Function\n",
        "def evaluate_classification(y_true, y_pred):\n",
        "  \"\"\"\n",
        "  Evaluate the classification performance using confusion matrix, precision, recall, and F1-score.\n",
        "  Parameters:\n",
        "  y_true (numpy.ndarray): True class labels of shape (n,).\n",
        "  y_pred (numpy.ndarray): Predicted class labels of shape (n,).\n",
        "  Returns:\n",
        "  tuple: Confusion matrix, precision, recall, and F1-score.\n",
        "  \"\"\"\n",
        "  from sklearn.metrics import confusion_matrix, precision_score, recall_score, f1_score\n",
        "  cm = confusion_matrix(y_true, y_pred)\n",
        "  precision = precision_score(y_true, y_pred, average=\"weighted\", zero_division=0)\n",
        "  recall = recall_score(y_true, y_pred, average=\"weighted\", zero_division=0)\n",
        "  f1 = f1_score(y_true, y_pred, average=\"weighted\", zero_division=0)\n",
        "  return cm, precision, recall, f1"
      ],
      "metadata": {
        "id": "vwmqFI9J4dUl"
      },
      "execution_count": 15,
      "outputs": []
    },
    {
      "cell_type": "markdown",
      "source": [
        "##4.2 Putting Helper Function to Action - Softmax Regression for the dataset:\n",
        "\n",
        "Dataset Used: \"titanic.csv\"\n",
        "1. Some Basic Data Operation, Loading, Analysis and Cleaning:"
      ],
      "metadata": {
        "id": "0FGc0MAOFm3-"
      }
    },
    {
      "cell_type": "code",
      "source": [
        "import pandas as pd"
      ],
      "metadata": {
        "id": "WuFsgAcWFumG"
      },
      "execution_count": 16,
      "outputs": []
    },
    {
      "cell_type": "code",
      "source": [
        "df=pd.read_csv(\"/content/drive/MyDrive/Dataset/Titanic-Dataset.csv\")"
      ],
      "metadata": {
        "id": "D9PhoZ2cCtnf"
      },
      "execution_count": 17,
      "outputs": []
    },
    {
      "cell_type": "code",
      "source": [
        "#displaying information of the dataframe\n",
        "df.info()"
      ],
      "metadata": {
        "colab": {
          "base_uri": "https://localhost:8080/"
        },
        "id": "eIyCrL4OHlO_",
        "outputId": "c26d62a1-9d72-4a35-85b2-4f2e3956d8a5"
      },
      "execution_count": 18,
      "outputs": [
        {
          "output_type": "stream",
          "name": "stdout",
          "text": [
            "<class 'pandas.core.frame.DataFrame'>\n",
            "RangeIndex: 891 entries, 0 to 890\n",
            "Data columns (total 12 columns):\n",
            " #   Column       Non-Null Count  Dtype  \n",
            "---  ------       --------------  -----  \n",
            " 0   PassengerId  891 non-null    int64  \n",
            " 1   Survived     891 non-null    int64  \n",
            " 2   Pclass       891 non-null    int64  \n",
            " 3   Name         891 non-null    object \n",
            " 4   Sex          891 non-null    object \n",
            " 5   Age          714 non-null    float64\n",
            " 6   SibSp        891 non-null    int64  \n",
            " 7   Parch        891 non-null    int64  \n",
            " 8   Ticket       891 non-null    object \n",
            " 9   Fare         891 non-null    float64\n",
            " 10  Cabin        204 non-null    object \n",
            " 11  Embarked     889 non-null    object \n",
            "dtypes: float64(2), int64(5), object(5)\n",
            "memory usage: 83.7+ KB\n"
          ]
        }
      ]
    },
    {
      "cell_type": "code",
      "source": [
        "#Calculating the rows and columns of the dataframe\n",
        "df.shape"
      ],
      "metadata": {
        "colab": {
          "base_uri": "https://localhost:8080/"
        },
        "id": "XnKPjxgTG0Aa",
        "outputId": "6ddb7be6-c604-4f46-8bd5-321fe5ad630d"
      },
      "execution_count": 19,
      "outputs": [
        {
          "output_type": "execute_result",
          "data": {
            "text/plain": [
              "(891, 12)"
            ]
          },
          "metadata": {},
          "execution_count": 19
        }
      ]
    },
    {
      "cell_type": "markdown",
      "source": [
        "2. Constructing One Hot Encoding for Label Vector:"
      ],
      "metadata": {
        "id": "sCG83_tHO9ky"
      }
    },
    {
      "cell_type": "code",
      "source": [
        "from sklearn.preprocessing import OneHotEncoder"
      ],
      "metadata": {
        "id": "dXCZTygXPNQ-"
      },
      "execution_count": 20,
      "outputs": []
    },
    {
      "cell_type": "code",
      "source": [
        "# Data cleaning\n",
        "#Filling the null values of Age column with mean of the column\n",
        "df['Age'] = df['Age'].fillna(df['Age'].mean())\n",
        "\n",
        "#Filling the null values of Embarked column with the first value that is mostly repeated\n",
        "df[\"Embarked\"] = df[\"Embarked\"].fillna(df[\"Embarked\"].mode()[0])\n",
        "df.isna().sum()"
      ],
      "metadata": {
        "colab": {
          "base_uri": "https://localhost:8080/",
          "height": 460
        },
        "id": "IfrNO3-rR9HT",
        "outputId": "0bc27607-4d1a-4b77-fe61-eb58cc06b573"
      },
      "execution_count": 21,
      "outputs": [
        {
          "output_type": "execute_result",
          "data": {
            "text/plain": [
              "PassengerId      0\n",
              "Survived         0\n",
              "Pclass           0\n",
              "Name             0\n",
              "Sex              0\n",
              "Age              0\n",
              "SibSp            0\n",
              "Parch            0\n",
              "Ticket           0\n",
              "Fare             0\n",
              "Cabin          687\n",
              "Embarked         0\n",
              "dtype: int64"
            ],
            "text/html": [
              "<div>\n",
              "<style scoped>\n",
              "    .dataframe tbody tr th:only-of-type {\n",
              "        vertical-align: middle;\n",
              "    }\n",
              "\n",
              "    .dataframe tbody tr th {\n",
              "        vertical-align: top;\n",
              "    }\n",
              "\n",
              "    .dataframe thead th {\n",
              "        text-align: right;\n",
              "    }\n",
              "</style>\n",
              "<table border=\"1\" class=\"dataframe\">\n",
              "  <thead>\n",
              "    <tr style=\"text-align: right;\">\n",
              "      <th></th>\n",
              "      <th>0</th>\n",
              "    </tr>\n",
              "  </thead>\n",
              "  <tbody>\n",
              "    <tr>\n",
              "      <th>PassengerId</th>\n",
              "      <td>0</td>\n",
              "    </tr>\n",
              "    <tr>\n",
              "      <th>Survived</th>\n",
              "      <td>0</td>\n",
              "    </tr>\n",
              "    <tr>\n",
              "      <th>Pclass</th>\n",
              "      <td>0</td>\n",
              "    </tr>\n",
              "    <tr>\n",
              "      <th>Name</th>\n",
              "      <td>0</td>\n",
              "    </tr>\n",
              "    <tr>\n",
              "      <th>Sex</th>\n",
              "      <td>0</td>\n",
              "    </tr>\n",
              "    <tr>\n",
              "      <th>Age</th>\n",
              "      <td>0</td>\n",
              "    </tr>\n",
              "    <tr>\n",
              "      <th>SibSp</th>\n",
              "      <td>0</td>\n",
              "    </tr>\n",
              "    <tr>\n",
              "      <th>Parch</th>\n",
              "      <td>0</td>\n",
              "    </tr>\n",
              "    <tr>\n",
              "      <th>Ticket</th>\n",
              "      <td>0</td>\n",
              "    </tr>\n",
              "    <tr>\n",
              "      <th>Fare</th>\n",
              "      <td>0</td>\n",
              "    </tr>\n",
              "    <tr>\n",
              "      <th>Cabin</th>\n",
              "      <td>687</td>\n",
              "    </tr>\n",
              "    <tr>\n",
              "      <th>Embarked</th>\n",
              "      <td>0</td>\n",
              "    </tr>\n",
              "  </tbody>\n",
              "</table>\n",
              "</div><br><label><b>dtype:</b> int64</label>"
            ]
          },
          "metadata": {},
          "execution_count": 21
        }
      ]
    },
    {
      "cell_type": "code",
      "source": [
        "#Initialize OneHotEncoder\n",
        "encoder = OneHotEncoder(sparse_output=False)\n",
        "\n",
        "# Fit and transform the 'Gender' column\n",
        "df[['Female', 'Male']] = encoder.fit_transform(df[['Sex']])\n",
        "df.head()"
      ],
      "metadata": {
        "colab": {
          "base_uri": "https://localhost:8080/",
          "height": 504
        },
        "id": "RnqdHQt0Tkdj",
        "outputId": "3fee27f4-42bc-4a94-e900-780127cf0e96"
      },
      "execution_count": 22,
      "outputs": [
        {
          "output_type": "execute_result",
          "data": {
            "text/plain": [
              "   PassengerId  Survived  Pclass  \\\n",
              "0            1         0       3   \n",
              "1            2         1       1   \n",
              "2            3         1       3   \n",
              "3            4         1       1   \n",
              "4            5         0       3   \n",
              "\n",
              "                                                Name     Sex   Age  SibSp  \\\n",
              "0                            Braund, Mr. Owen Harris    male  22.0      1   \n",
              "1  Cumings, Mrs. John Bradley (Florence Briggs Th...  female  38.0      1   \n",
              "2                             Heikkinen, Miss. Laina  female  26.0      0   \n",
              "3       Futrelle, Mrs. Jacques Heath (Lily May Peel)  female  35.0      1   \n",
              "4                           Allen, Mr. William Henry    male  35.0      0   \n",
              "\n",
              "   Parch            Ticket     Fare Cabin Embarked  Female  Male  \n",
              "0      0         A/5 21171   7.2500   NaN        S     0.0   1.0  \n",
              "1      0          PC 17599  71.2833   C85        C     1.0   0.0  \n",
              "2      0  STON/O2. 3101282   7.9250   NaN        S     1.0   0.0  \n",
              "3      0            113803  53.1000  C123        S     1.0   0.0  \n",
              "4      0            373450   8.0500   NaN        S     0.0   1.0  "
            ],
            "text/html": [
              "\n",
              "  <div id=\"df-1870831d-6670-4375-9b49-5b8a799f95e2\" class=\"colab-df-container\">\n",
              "    <div>\n",
              "<style scoped>\n",
              "    .dataframe tbody tr th:only-of-type {\n",
              "        vertical-align: middle;\n",
              "    }\n",
              "\n",
              "    .dataframe tbody tr th {\n",
              "        vertical-align: top;\n",
              "    }\n",
              "\n",
              "    .dataframe thead th {\n",
              "        text-align: right;\n",
              "    }\n",
              "</style>\n",
              "<table border=\"1\" class=\"dataframe\">\n",
              "  <thead>\n",
              "    <tr style=\"text-align: right;\">\n",
              "      <th></th>\n",
              "      <th>PassengerId</th>\n",
              "      <th>Survived</th>\n",
              "      <th>Pclass</th>\n",
              "      <th>Name</th>\n",
              "      <th>Sex</th>\n",
              "      <th>Age</th>\n",
              "      <th>SibSp</th>\n",
              "      <th>Parch</th>\n",
              "      <th>Ticket</th>\n",
              "      <th>Fare</th>\n",
              "      <th>Cabin</th>\n",
              "      <th>Embarked</th>\n",
              "      <th>Female</th>\n",
              "      <th>Male</th>\n",
              "    </tr>\n",
              "  </thead>\n",
              "  <tbody>\n",
              "    <tr>\n",
              "      <th>0</th>\n",
              "      <td>1</td>\n",
              "      <td>0</td>\n",
              "      <td>3</td>\n",
              "      <td>Braund, Mr. Owen Harris</td>\n",
              "      <td>male</td>\n",
              "      <td>22.0</td>\n",
              "      <td>1</td>\n",
              "      <td>0</td>\n",
              "      <td>A/5 21171</td>\n",
              "      <td>7.2500</td>\n",
              "      <td>NaN</td>\n",
              "      <td>S</td>\n",
              "      <td>0.0</td>\n",
              "      <td>1.0</td>\n",
              "    </tr>\n",
              "    <tr>\n",
              "      <th>1</th>\n",
              "      <td>2</td>\n",
              "      <td>1</td>\n",
              "      <td>1</td>\n",
              "      <td>Cumings, Mrs. John Bradley (Florence Briggs Th...</td>\n",
              "      <td>female</td>\n",
              "      <td>38.0</td>\n",
              "      <td>1</td>\n",
              "      <td>0</td>\n",
              "      <td>PC 17599</td>\n",
              "      <td>71.2833</td>\n",
              "      <td>C85</td>\n",
              "      <td>C</td>\n",
              "      <td>1.0</td>\n",
              "      <td>0.0</td>\n",
              "    </tr>\n",
              "    <tr>\n",
              "      <th>2</th>\n",
              "      <td>3</td>\n",
              "      <td>1</td>\n",
              "      <td>3</td>\n",
              "      <td>Heikkinen, Miss. Laina</td>\n",
              "      <td>female</td>\n",
              "      <td>26.0</td>\n",
              "      <td>0</td>\n",
              "      <td>0</td>\n",
              "      <td>STON/O2. 3101282</td>\n",
              "      <td>7.9250</td>\n",
              "      <td>NaN</td>\n",
              "      <td>S</td>\n",
              "      <td>1.0</td>\n",
              "      <td>0.0</td>\n",
              "    </tr>\n",
              "    <tr>\n",
              "      <th>3</th>\n",
              "      <td>4</td>\n",
              "      <td>1</td>\n",
              "      <td>1</td>\n",
              "      <td>Futrelle, Mrs. Jacques Heath (Lily May Peel)</td>\n",
              "      <td>female</td>\n",
              "      <td>35.0</td>\n",
              "      <td>1</td>\n",
              "      <td>0</td>\n",
              "      <td>113803</td>\n",
              "      <td>53.1000</td>\n",
              "      <td>C123</td>\n",
              "      <td>S</td>\n",
              "      <td>1.0</td>\n",
              "      <td>0.0</td>\n",
              "    </tr>\n",
              "    <tr>\n",
              "      <th>4</th>\n",
              "      <td>5</td>\n",
              "      <td>0</td>\n",
              "      <td>3</td>\n",
              "      <td>Allen, Mr. William Henry</td>\n",
              "      <td>male</td>\n",
              "      <td>35.0</td>\n",
              "      <td>0</td>\n",
              "      <td>0</td>\n",
              "      <td>373450</td>\n",
              "      <td>8.0500</td>\n",
              "      <td>NaN</td>\n",
              "      <td>S</td>\n",
              "      <td>0.0</td>\n",
              "      <td>1.0</td>\n",
              "    </tr>\n",
              "  </tbody>\n",
              "</table>\n",
              "</div>\n",
              "    <div class=\"colab-df-buttons\">\n",
              "\n",
              "  <div class=\"colab-df-container\">\n",
              "    <button class=\"colab-df-convert\" onclick=\"convertToInteractive('df-1870831d-6670-4375-9b49-5b8a799f95e2')\"\n",
              "            title=\"Convert this dataframe to an interactive table.\"\n",
              "            style=\"display:none;\">\n",
              "\n",
              "  <svg xmlns=\"http://www.w3.org/2000/svg\" height=\"24px\" viewBox=\"0 -960 960 960\">\n",
              "    <path d=\"M120-120v-720h720v720H120Zm60-500h600v-160H180v160Zm220 220h160v-160H400v160Zm0 220h160v-160H400v160ZM180-400h160v-160H180v160Zm440 0h160v-160H620v160ZM180-180h160v-160H180v160Zm440 0h160v-160H620v160Z\"/>\n",
              "  </svg>\n",
              "    </button>\n",
              "\n",
              "  <style>\n",
              "    .colab-df-container {\n",
              "      display:flex;\n",
              "      gap: 12px;\n",
              "    }\n",
              "\n",
              "    .colab-df-convert {\n",
              "      background-color: #E8F0FE;\n",
              "      border: none;\n",
              "      border-radius: 50%;\n",
              "      cursor: pointer;\n",
              "      display: none;\n",
              "      fill: #1967D2;\n",
              "      height: 32px;\n",
              "      padding: 0 0 0 0;\n",
              "      width: 32px;\n",
              "    }\n",
              "\n",
              "    .colab-df-convert:hover {\n",
              "      background-color: #E2EBFA;\n",
              "      box-shadow: 0px 1px 2px rgba(60, 64, 67, 0.3), 0px 1px 3px 1px rgba(60, 64, 67, 0.15);\n",
              "      fill: #174EA6;\n",
              "    }\n",
              "\n",
              "    .colab-df-buttons div {\n",
              "      margin-bottom: 4px;\n",
              "    }\n",
              "\n",
              "    [theme=dark] .colab-df-convert {\n",
              "      background-color: #3B4455;\n",
              "      fill: #D2E3FC;\n",
              "    }\n",
              "\n",
              "    [theme=dark] .colab-df-convert:hover {\n",
              "      background-color: #434B5C;\n",
              "      box-shadow: 0px 1px 3px 1px rgba(0, 0, 0, 0.15);\n",
              "      filter: drop-shadow(0px 1px 2px rgba(0, 0, 0, 0.3));\n",
              "      fill: #FFFFFF;\n",
              "    }\n",
              "  </style>\n",
              "\n",
              "    <script>\n",
              "      const buttonEl =\n",
              "        document.querySelector('#df-1870831d-6670-4375-9b49-5b8a799f95e2 button.colab-df-convert');\n",
              "      buttonEl.style.display =\n",
              "        google.colab.kernel.accessAllowed ? 'block' : 'none';\n",
              "\n",
              "      async function convertToInteractive(key) {\n",
              "        const element = document.querySelector('#df-1870831d-6670-4375-9b49-5b8a799f95e2');\n",
              "        const dataTable =\n",
              "          await google.colab.kernel.invokeFunction('convertToInteractive',\n",
              "                                                    [key], {});\n",
              "        if (!dataTable) return;\n",
              "\n",
              "        const docLinkHtml = 'Like what you see? Visit the ' +\n",
              "          '<a target=\"_blank\" href=https://colab.research.google.com/notebooks/data_table.ipynb>data table notebook</a>'\n",
              "          + ' to learn more about interactive tables.';\n",
              "        element.innerHTML = '';\n",
              "        dataTable['output_type'] = 'display_data';\n",
              "        await google.colab.output.renderOutput(dataTable, element);\n",
              "        const docLink = document.createElement('div');\n",
              "        docLink.innerHTML = docLinkHtml;\n",
              "        element.appendChild(docLink);\n",
              "      }\n",
              "    </script>\n",
              "  </div>\n",
              "\n",
              "\n",
              "<div id=\"df-578e8e6b-6cdf-45c6-aee4-e793d22f6d50\">\n",
              "  <button class=\"colab-df-quickchart\" onclick=\"quickchart('df-578e8e6b-6cdf-45c6-aee4-e793d22f6d50')\"\n",
              "            title=\"Suggest charts\"\n",
              "            style=\"display:none;\">\n",
              "\n",
              "<svg xmlns=\"http://www.w3.org/2000/svg\" height=\"24px\"viewBox=\"0 0 24 24\"\n",
              "     width=\"24px\">\n",
              "    <g>\n",
              "        <path d=\"M19 3H5c-1.1 0-2 .9-2 2v14c0 1.1.9 2 2 2h14c1.1 0 2-.9 2-2V5c0-1.1-.9-2-2-2zM9 17H7v-7h2v7zm4 0h-2V7h2v10zm4 0h-2v-4h2v4z\"/>\n",
              "    </g>\n",
              "</svg>\n",
              "  </button>\n",
              "\n",
              "<style>\n",
              "  .colab-df-quickchart {\n",
              "      --bg-color: #E8F0FE;\n",
              "      --fill-color: #1967D2;\n",
              "      --hover-bg-color: #E2EBFA;\n",
              "      --hover-fill-color: #174EA6;\n",
              "      --disabled-fill-color: #AAA;\n",
              "      --disabled-bg-color: #DDD;\n",
              "  }\n",
              "\n",
              "  [theme=dark] .colab-df-quickchart {\n",
              "      --bg-color: #3B4455;\n",
              "      --fill-color: #D2E3FC;\n",
              "      --hover-bg-color: #434B5C;\n",
              "      --hover-fill-color: #FFFFFF;\n",
              "      --disabled-bg-color: #3B4455;\n",
              "      --disabled-fill-color: #666;\n",
              "  }\n",
              "\n",
              "  .colab-df-quickchart {\n",
              "    background-color: var(--bg-color);\n",
              "    border: none;\n",
              "    border-radius: 50%;\n",
              "    cursor: pointer;\n",
              "    display: none;\n",
              "    fill: var(--fill-color);\n",
              "    height: 32px;\n",
              "    padding: 0;\n",
              "    width: 32px;\n",
              "  }\n",
              "\n",
              "  .colab-df-quickchart:hover {\n",
              "    background-color: var(--hover-bg-color);\n",
              "    box-shadow: 0 1px 2px rgba(60, 64, 67, 0.3), 0 1px 3px 1px rgba(60, 64, 67, 0.15);\n",
              "    fill: var(--button-hover-fill-color);\n",
              "  }\n",
              "\n",
              "  .colab-df-quickchart-complete:disabled,\n",
              "  .colab-df-quickchart-complete:disabled:hover {\n",
              "    background-color: var(--disabled-bg-color);\n",
              "    fill: var(--disabled-fill-color);\n",
              "    box-shadow: none;\n",
              "  }\n",
              "\n",
              "  .colab-df-spinner {\n",
              "    border: 2px solid var(--fill-color);\n",
              "    border-color: transparent;\n",
              "    border-bottom-color: var(--fill-color);\n",
              "    animation:\n",
              "      spin 1s steps(1) infinite;\n",
              "  }\n",
              "\n",
              "  @keyframes spin {\n",
              "    0% {\n",
              "      border-color: transparent;\n",
              "      border-bottom-color: var(--fill-color);\n",
              "      border-left-color: var(--fill-color);\n",
              "    }\n",
              "    20% {\n",
              "      border-color: transparent;\n",
              "      border-left-color: var(--fill-color);\n",
              "      border-top-color: var(--fill-color);\n",
              "    }\n",
              "    30% {\n",
              "      border-color: transparent;\n",
              "      border-left-color: var(--fill-color);\n",
              "      border-top-color: var(--fill-color);\n",
              "      border-right-color: var(--fill-color);\n",
              "    }\n",
              "    40% {\n",
              "      border-color: transparent;\n",
              "      border-right-color: var(--fill-color);\n",
              "      border-top-color: var(--fill-color);\n",
              "    }\n",
              "    60% {\n",
              "      border-color: transparent;\n",
              "      border-right-color: var(--fill-color);\n",
              "    }\n",
              "    80% {\n",
              "      border-color: transparent;\n",
              "      border-right-color: var(--fill-color);\n",
              "      border-bottom-color: var(--fill-color);\n",
              "    }\n",
              "    90% {\n",
              "      border-color: transparent;\n",
              "      border-bottom-color: var(--fill-color);\n",
              "    }\n",
              "  }\n",
              "</style>\n",
              "\n",
              "  <script>\n",
              "    async function quickchart(key) {\n",
              "      const quickchartButtonEl =\n",
              "        document.querySelector('#' + key + ' button');\n",
              "      quickchartButtonEl.disabled = true;  // To prevent multiple clicks.\n",
              "      quickchartButtonEl.classList.add('colab-df-spinner');\n",
              "      try {\n",
              "        const charts = await google.colab.kernel.invokeFunction(\n",
              "            'suggestCharts', [key], {});\n",
              "      } catch (error) {\n",
              "        console.error('Error during call to suggestCharts:', error);\n",
              "      }\n",
              "      quickchartButtonEl.classList.remove('colab-df-spinner');\n",
              "      quickchartButtonEl.classList.add('colab-df-quickchart-complete');\n",
              "    }\n",
              "    (() => {\n",
              "      let quickchartButtonEl =\n",
              "        document.querySelector('#df-578e8e6b-6cdf-45c6-aee4-e793d22f6d50 button');\n",
              "      quickchartButtonEl.style.display =\n",
              "        google.colab.kernel.accessAllowed ? 'block' : 'none';\n",
              "    })();\n",
              "  </script>\n",
              "</div>\n",
              "\n",
              "    </div>\n",
              "  </div>\n"
            ],
            "application/vnd.google.colaboratory.intrinsic+json": {
              "type": "dataframe",
              "variable_name": "df",
              "summary": "{\n  \"name\": \"df\",\n  \"rows\": 891,\n  \"fields\": [\n    {\n      \"column\": \"PassengerId\",\n      \"properties\": {\n        \"dtype\": \"number\",\n        \"std\": 257,\n        \"min\": 1,\n        \"max\": 891,\n        \"num_unique_values\": 891,\n        \"samples\": [\n          710,\n          440,\n          841\n        ],\n        \"semantic_type\": \"\",\n        \"description\": \"\"\n      }\n    },\n    {\n      \"column\": \"Survived\",\n      \"properties\": {\n        \"dtype\": \"number\",\n        \"std\": 0,\n        \"min\": 0,\n        \"max\": 1,\n        \"num_unique_values\": 2,\n        \"samples\": [\n          1,\n          0\n        ],\n        \"semantic_type\": \"\",\n        \"description\": \"\"\n      }\n    },\n    {\n      \"column\": \"Pclass\",\n      \"properties\": {\n        \"dtype\": \"number\",\n        \"std\": 0,\n        \"min\": 1,\n        \"max\": 3,\n        \"num_unique_values\": 3,\n        \"samples\": [\n          3,\n          1\n        ],\n        \"semantic_type\": \"\",\n        \"description\": \"\"\n      }\n    },\n    {\n      \"column\": \"Name\",\n      \"properties\": {\n        \"dtype\": \"string\",\n        \"num_unique_values\": 891,\n        \"samples\": [\n          \"Moubarek, Master. Halim Gonios (\\\"William George\\\")\",\n          \"Kvillner, Mr. Johan Henrik Johannesson\"\n        ],\n        \"semantic_type\": \"\",\n        \"description\": \"\"\n      }\n    },\n    {\n      \"column\": \"Sex\",\n      \"properties\": {\n        \"dtype\": \"category\",\n        \"num_unique_values\": 2,\n        \"samples\": [\n          \"female\",\n          \"male\"\n        ],\n        \"semantic_type\": \"\",\n        \"description\": \"\"\n      }\n    },\n    {\n      \"column\": \"Age\",\n      \"properties\": {\n        \"dtype\": \"number\",\n        \"std\": 13.002015226002884,\n        \"min\": 0.42,\n        \"max\": 80.0,\n        \"num_unique_values\": 89,\n        \"samples\": [\n          59.0,\n          36.5\n        ],\n        \"semantic_type\": \"\",\n        \"description\": \"\"\n      }\n    },\n    {\n      \"column\": \"SibSp\",\n      \"properties\": {\n        \"dtype\": \"number\",\n        \"std\": 1,\n        \"min\": 0,\n        \"max\": 8,\n        \"num_unique_values\": 7,\n        \"samples\": [\n          1,\n          0\n        ],\n        \"semantic_type\": \"\",\n        \"description\": \"\"\n      }\n    },\n    {\n      \"column\": \"Parch\",\n      \"properties\": {\n        \"dtype\": \"number\",\n        \"std\": 0,\n        \"min\": 0,\n        \"max\": 6,\n        \"num_unique_values\": 7,\n        \"samples\": [\n          0,\n          1\n        ],\n        \"semantic_type\": \"\",\n        \"description\": \"\"\n      }\n    },\n    {\n      \"column\": \"Ticket\",\n      \"properties\": {\n        \"dtype\": \"string\",\n        \"num_unique_values\": 681,\n        \"samples\": [\n          \"11774\",\n          \"248740\"\n        ],\n        \"semantic_type\": \"\",\n        \"description\": \"\"\n      }\n    },\n    {\n      \"column\": \"Fare\",\n      \"properties\": {\n        \"dtype\": \"number\",\n        \"std\": 49.693428597180905,\n        \"min\": 0.0,\n        \"max\": 512.3292,\n        \"num_unique_values\": 248,\n        \"samples\": [\n          11.2417,\n          51.8625\n        ],\n        \"semantic_type\": \"\",\n        \"description\": \"\"\n      }\n    },\n    {\n      \"column\": \"Cabin\",\n      \"properties\": {\n        \"dtype\": \"category\",\n        \"num_unique_values\": 147,\n        \"samples\": [\n          \"D45\",\n          \"B49\"\n        ],\n        \"semantic_type\": \"\",\n        \"description\": \"\"\n      }\n    },\n    {\n      \"column\": \"Embarked\",\n      \"properties\": {\n        \"dtype\": \"category\",\n        \"num_unique_values\": 3,\n        \"samples\": [\n          \"S\",\n          \"C\"\n        ],\n        \"semantic_type\": \"\",\n        \"description\": \"\"\n      }\n    },\n    {\n      \"column\": \"Female\",\n      \"properties\": {\n        \"dtype\": \"number\",\n        \"std\": 0.47799007089609846,\n        \"min\": 0.0,\n        \"max\": 1.0,\n        \"num_unique_values\": 2,\n        \"samples\": [\n          1.0,\n          0.0\n        ],\n        \"semantic_type\": \"\",\n        \"description\": \"\"\n      }\n    },\n    {\n      \"column\": \"Male\",\n      \"properties\": {\n        \"dtype\": \"number\",\n        \"std\": 0.47799007089609846,\n        \"min\": 0.0,\n        \"max\": 1.0,\n        \"num_unique_values\": 2,\n        \"samples\": [\n          0.0,\n          1.0\n        ],\n        \"semantic_type\": \"\",\n        \"description\": \"\"\n      }\n    }\n  ]\n}"
            }
          },
          "metadata": {},
          "execution_count": 22
        }
      ]
    },
    {
      "cell_type": "code",
      "source": [
        "#Selecting columns for feature matrix\n",
        "X=np.array(df[['Pclass', 'Female', 'Male', 'Age', 'SibSp', 'Parch', 'Fare']])\n",
        "\n",
        "#Selecting column for target variable\n",
        "y=np.array(df['Embarked'])\n",
        "\n",
        "#Fit and transform the target variable (y) to one-hot encoded format\n",
        "y_onehot = encoder.fit_transform(y.reshape(-1, 1))\n",
        "print(y_onehot)"
      ],
      "metadata": {
        "colab": {
          "base_uri": "https://localhost:8080/"
        },
        "id": "e5LhcqcUHwTp",
        "outputId": "5bcfd87b-bf09-4ef5-fdc3-1b1e9bcfa7c1"
      },
      "execution_count": 23,
      "outputs": [
        {
          "output_type": "stream",
          "name": "stdout",
          "text": [
            "[[0. 0. 1.]\n",
            " [1. 0. 0.]\n",
            " [0. 0. 1.]\n",
            " ...\n",
            " [0. 0. 1.]\n",
            " [1. 0. 0.]\n",
            " [0. 1. 0.]]\n"
          ]
        }
      ]
    },
    {
      "cell_type": "markdown",
      "source": [
        "3. Train Test Split and Standard Scaling of the Data:"
      ],
      "metadata": {
        "id": "5vFqxQbMRmHr"
      }
    },
    {
      "cell_type": "code",
      "source": [
        "from sklearn.model_selection import train_test_split\n",
        "from sklearn.preprocessing import StandardScaler"
      ],
      "metadata": {
        "id": "Oc0i-vYgRzSR"
      },
      "execution_count": 24,
      "outputs": []
    },
    {
      "cell_type": "code",
      "source": [
        "#Split data into train and test sets\n",
        "X_train, X_test, y_train, y_test = train_test_split(X, y_onehot, test_size=0.2, random_state=42, stratify=y)"
      ],
      "metadata": {
        "id": "2i-hoZUNPRqC"
      },
      "execution_count": 39,
      "outputs": []
    },
    {
      "cell_type": "code",
      "source": [
        "# Initialize the scaler and scale the data\n",
        "scaler = StandardScaler()\n",
        "X_train_scaled = scaler.fit_transform(X_train)\n",
        "X_test_scaled = scaler.transform(X_test)\n",
        "\n",
        "# Assertions to check the shape of X_train_scaled and X_test_scaled\n",
        "assert X_train_scaled.shape == (X_train.shape[0], X_train.shape[1]), f\"X_train_scaled shape mismatch: {X_train_scaled.shape}\"\n",
        "assert X_test_scaled.shape == (X_test.shape[0], X_test.shape[1]), f\"X_test_scaled shape mismatch: {X_test_scaled.shape}\"\n",
        "print(\"Shape assertions passed!\")"
      ],
      "metadata": {
        "id": "HZCa-dpwR3XS",
        "colab": {
          "base_uri": "https://localhost:8080/"
        },
        "outputId": "b43aea50-a23c-4f4c-d377-ba369ed3be2f"
      },
      "execution_count": 26,
      "outputs": [
        {
          "output_type": "stream",
          "name": "stdout",
          "text": [
            "Shape assertions passed!\n"
          ]
        }
      ]
    },
    {
      "cell_type": "markdown",
      "source": [
        "4. Training of the Softmax Regression:"
      ],
      "metadata": {
        "id": "B6tuIFVfVL4P"
      }
    },
    {
      "cell_type": "code",
      "source": [
        "# Intitalizations:\n",
        "#number of classes\n",
        "num_classes = y_train.shape[1]\n",
        "\n",
        "#number of features\n",
        "num_features = X_train_scaled.shape[1]\n",
        "\n",
        "#W is the weight matrix that stores the learned weights for each feature and class.\n",
        "W = np.zeros((num_features, num_classes))\n",
        "\n",
        "#bias vector, one bias for each class\n",
        "b = np.zeros(num_classes)\n",
        "alpha = 0.1\n",
        "n_iter = 1000"
      ],
      "metadata": {
        "id": "8lTki-XSU7cu"
      },
      "execution_count": 27,
      "outputs": []
    },
    {
      "cell_type": "code",
      "source": [
        "#Train model\n",
        "print(\"\\nTraining Softmax Regression Model:\")\n",
        "W, b, cost_history = gradient_descent_softmax(X_train_scaled, y_train, W, b, alpha, n_iter, show_cost=True)"
      ],
      "metadata": {
        "colab": {
          "base_uri": "https://localhost:8080/"
        },
        "id": "5nqiCjR6ZvZU",
        "outputId": "a8c0d57f-218f-4a05-c812-c2a6c9dbf658"
      },
      "execution_count": 28,
      "outputs": [
        {
          "output_type": "stream",
          "name": "stdout",
          "text": [
            "\n",
            "Training Softmax Regression Model:\n",
            "Iteration 0: Cost = 1.070320\n",
            "Iteration 100: Cost = 0.689603\n",
            "Iteration 200: Cost = 0.677599\n",
            "Iteration 300: Cost = 0.673091\n",
            "Iteration 400: Cost = 0.670773\n",
            "Iteration 500: Cost = 0.669421\n",
            "Iteration 600: Cost = 0.668574\n",
            "Iteration 700: Cost = 0.668015\n",
            "Iteration 800: Cost = 0.667634\n",
            "Iteration 900: Cost = 0.667367\n",
            "Iteration 999: Cost = 0.667176\n"
          ]
        }
      ]
    },
    {
      "cell_type": "code",
      "source": [
        "#Plot Cost Vs. Iterations:\n",
        "plt.figure(figsize=(9, 6))\n",
        "plt.plot(cost_history)\n",
        "plt.xlabel(\"Iteration\", fontsize=14)\n",
        "plt.ylabel(\"Cost\", fontsize=14)\n",
        "plt.title(\"Cost vs Iteration\", fontsize=14)\n",
        "plt.tight_layout()\n",
        "plt.show()\n",
        "plt.show()"
      ],
      "metadata": {
        "colab": {
          "base_uri": "https://localhost:8080/",
          "height": 572
        },
        "id": "fiovRaWtZ0x3",
        "outputId": "e67f726b-0125-4794-d47a-42c8ab4490bf"
      },
      "execution_count": 29,
      "outputs": [
        {
          "output_type": "display_data",
          "data": {
            "text/plain": [
              "<Figure size 900x600 with 1 Axes>"
            ],
            "image/png": "[encoded data removed]"
          },
          "metadata": {}
        }
      ]
    },
    {
      "cell_type": "markdown",
      "source": [
        "4. Did the Model Overfitt or Underfitt?"
      ],
      "metadata": {
        "id": "epHLARk5V-Aw"
      }
    },
    {
      "cell_type": "code",
      "source": [
        "# Test model\n",
        "y_train_pred = predict_softmax(X_train_scaled, W, b)\n",
        "y_test_pred = predict_softmax(X_test_scaled, W, b)\n",
        "\n",
        "# Evaluate train and test performance\n",
        "train_cost = cost_softmax(X_train_scaled, y_train, W, b)\n",
        "test_cost = cost_softmax(X_test_scaled, y_test, W, b)\n",
        "print(f\"\\nTrain Loss (Cost): {train_cost:.4f}\")\n",
        "print(f\"Test Loss (Cost): {test_cost:.4f}\")"
      ],
      "metadata": {
        "colab": {
          "base_uri": "https://localhost:8080/"
        },
        "id": "hbORsoMNVRh1",
        "outputId": "818bb5f7-51a2-489e-f4a8-09dda6d4187d"
      },
      "execution_count": 30,
      "outputs": [
        {
          "output_type": "stream",
          "name": "stdout",
          "text": [
            "\n",
            "Train Loss (Cost): 0.6672\n",
            "Test Loss (Cost): 0.7079\n"
          ]
        }
      ]
    },
    {
      "cell_type": "markdown",
      "source": [
        "5. How well my model did?"
      ],
      "metadata": {
        "id": "gdEIW9f-WHpt"
      }
    },
    {
      "cell_type": "code",
      "source": [
        "# Convert one-hot encoded y_test to class indices\n",
        "y_test_true = np.argmax(y_test, axis=1)\n",
        "\n",
        "# Accuracy on test data\n",
        "test_accuracy = np.mean(y_test_pred == y_test_true) * 100\n",
        "print(f\"\\nTest Accuracy: {test_accuracy:.2f}%\")\n",
        "# Evaluation\n",
        "cm, precision, recall, f1 = evaluate_classification(y_test_true, y_test_pred)\n",
        "print(\"\\nConfusion Matrix:\")\n",
        "print(cm)\n",
        "print(f\"Precision: {precision:.2f}\")\n",
        "print(f\"Recall: {recall:.2f}\")\n",
        "print(f\"F1-Score: {f1:.2f}\")"
      ],
      "metadata": {
        "colab": {
          "base_uri": "https://localhost:8080/"
        },
        "id": "DZQ-2ClxWCiC",
        "outputId": "485747b7-99b0-4772-9bfc-f909fe68f003"
      },
      "execution_count": 31,
      "outputs": [
        {
          "output_type": "stream",
          "name": "stdout",
          "text": [
            "\n",
            "Test Accuracy: 73.18%\n",
            "\n",
            "Confusion Matrix:\n",
            "[[  4   0  30]\n",
            " [  0   0  15]\n",
            " [  3   0 127]]\n",
            "Precision: 0.64\n",
            "Recall: 0.73\n",
            "F1-Score: 0.65\n"
          ]
        }
      ]
    },
    {
      "cell_type": "code",
      "source": [
        "#Optional - Visualizing the COnfusion matrix\n",
        "# Visualizing Confusion Matrix\n",
        "# Visualization\n",
        "fig, ax = plt.subplots(figsize=(6, 6))\n",
        "ax.imshow(cm, cmap='Blues') # Use a color map for better visualization\n",
        "# Set tick labels for the axes\n",
        "ax.set_xticks(range(3))\n",
        "ax.set_yticks(range(3))\n",
        "ax.set_xticklabels(['Predicted 0', 'Predicted 1', 'Predicted 2'])\n",
        "ax.set_yticklabels(['Actual 0', 'Actual 1', 'Actual 2'])\n",
        "# Add labels to each cell in the confusion matrix\n",
        "for i in range(cm.shape[0]):\n",
        "  for j in range(cm.shape[1]):\n",
        "    ax.text(j, i, cm[i, j], ha='center', va='center', color='white' if cm[i, j] > np.max(cm) / 2 else 'black')\n",
        "\n",
        "# Add grid lines and axis labels\n",
        "ax.grid(False)\n",
        "plt.title('Confusion Matrix', fontsize=14)\n",
        "plt.xlabel('Predicted Label', fontsize=12)\n",
        "plt.ylabel('Actual Label', fontsize=12)\n",
        "plt.tight_layout()\n",
        "plt.show()"
      ],
      "metadata": {
        "colab": {
          "base_uri": "https://localhost:8080/",
          "height": 588
        },
        "id": "XAn1IycMWNmY",
        "outputId": "2a4736c9-c112-4f27-f62c-82ca0bc032ab"
      },
      "execution_count": 32,
      "outputs": [
        {
          "output_type": "display_data",
          "data": {
            "text/plain": [
              "<Figure size 600x600 with 1 Axes>"
            ],
            "image/png": "[encoded data removed]"
          },
          "metadata": {}
        }
      ]
    },
    {
      "cell_type": "code",
      "source": [],
      "metadata": {
        "id": "4HpvvtbqZRz6"
      },
      "execution_count": 32,
      "outputs": []
    }
  ]
}