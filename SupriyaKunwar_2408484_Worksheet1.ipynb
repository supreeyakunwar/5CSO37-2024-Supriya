{
 "cells": [
  {
   "cell_type": "markdown",
   "metadata": {
    "id": "VbRT8qXll3D_"
   },
   "source": [
    "# Worksheet 1"
   ]
  },
  {
   "cell_type": "markdown",
   "metadata": {
    "id": "VanBaOu6mEI8"
   },
   "source": [
    "## Warming Up Exercise: Basic Vector and Matrix Operation with Numpy"
   ]
  },
  {
   "cell_type": "markdown",
   "metadata": {
    "id": "EDv5jWkGmgDF"
   },
   "source": [
    "### Problem-1: Array Creation:"
   ]
  },
  {
   "cell_type": "code",
   "execution_count": 43,
   "metadata": {
    "colab": {
     "base_uri": "https://localhost:8080/"
    },
    "executionInfo": {
     "elapsed": 48,
     "status": "ok",
     "timestamp": 1732962868587,
     "user": {
      "displayName": "Anwesh Rawat",
      "userId": "12194484589439496541"
     },
     "user_tz": -345
    },
    "id": "emZsfL03mlY-",
    "outputId": "9cefbcff-c425-47f2-dbf8-8fdf7ed685a3"
   },
   "outputs": [
    {
     "data": {
      "text/plain": [
       "array([[1.14e-322, 6.42e-323],\n",
       "       [2.52e-322, 1.43e-322]])"
      ]
     },
     "execution_count": 43,
     "metadata": {},
     "output_type": "execute_result"
    }
   ],
   "source": [
    "#1. Initialize an empty array with size 2X2.\n",
    "import numpy as np\n",
    "e_array=np.empty([2,2])\n",
    "e_array"
   ]
  },
  {
   "cell_type": "code",
   "execution_count": 44,
   "metadata": {
    "colab": {
     "base_uri": "https://localhost:8080/"
    },
    "executionInfo": {
     "elapsed": 47,
     "status": "ok",
     "timestamp": 1732962868587,
     "user": {
      "displayName": "Anwesh Rawat",
      "userId": "12194484589439496541"
     },
     "user_tz": -345
    },
    "id": "5nxlBzkInhWm",
    "outputId": "9de8efea-eefb-497e-c69d-7371e33be15b"
   },
   "outputs": [
    {
     "data": {
      "text/plain": [
       "array([[1., 1.],\n",
       "       [1., 1.],\n",
       "       [1., 1.],\n",
       "       [1., 1.]])"
      ]
     },
     "execution_count": 44,
     "metadata": {},
     "output_type": "execute_result"
    }
   ],
   "source": [
    "#2. Initialize an all one array with size 4X2.\n",
    "o_array=np.ones([4,2])\n",
    "o_array"
   ]
  },
  {
   "cell_type": "code",
   "execution_count": 45,
   "metadata": {
    "colab": {
     "base_uri": "https://localhost:8080/"
    },
    "executionInfo": {
     "elapsed": 45,
     "status": "ok",
     "timestamp": 1732962868587,
     "user": {
      "displayName": "Anwesh Rawat",
      "userId": "12194484589439496541"
     },
     "user_tz": -345
    },
    "id": "Xw7BZ5uDn7kS",
    "outputId": "725aca87-d05a-41f3-fcfb-83b207b34603"
   },
   "outputs": [
    {
     "data": {
      "text/plain": [
       "array([[7, 7],\n",
       "       [7, 7]])"
      ]
     },
     "execution_count": 45,
     "metadata": {},
     "output_type": "execute_result"
    }
   ],
   "source": [
    "#3. Return a new array of given shape and type, filled with fill value.{Hint: np.full}\n",
    "fill_array=np.full((2,2),7)\n",
    "fill_array"
   ]
  },
  {
   "cell_type": "code",
   "execution_count": 46,
   "metadata": {
    "colab": {
     "base_uri": "https://localhost:8080/"
    },
    "executionInfo": {
     "elapsed": 42,
     "status": "ok",
     "timestamp": 1732962868587,
     "user": {
      "displayName": "Anwesh Rawat",
      "userId": "12194484589439496541"
     },
     "user_tz": -345
    },
    "id": "382oHoEVpNUh",
    "outputId": "7a186a88-f33f-4fc2-fe80-06f5f160255d"
   },
   "outputs": [
    {
     "data": {
      "text/plain": [
       "array([[0, 0],\n",
       "       [0, 0]])"
      ]
     },
     "execution_count": 46,
     "metadata": {},
     "output_type": "execute_result"
    }
   ],
   "source": [
    "#4. Return a new array of zeros with same shape and type as a given array.{Hint: np.zeros like}\n",
    "fill_zeros_array=np.zeros_like(fill_array)\n",
    "fill_zeros_array"
   ]
  },
  {
   "cell_type": "code",
   "execution_count": 47,
   "metadata": {
    "colab": {
     "base_uri": "https://localhost:8080/"
    },
    "executionInfo": {
     "elapsed": 40,
     "status": "ok",
     "timestamp": 1732962868587,
     "user": {
      "displayName": "Anwesh Rawat",
      "userId": "12194484589439496541"
     },
     "user_tz": -345
    },
    "id": "_aKvsFhuppQi",
    "outputId": "e4606c74-08c7-4147-c735-95cc7ce62842"
   },
   "outputs": [
    {
     "data": {
      "text/plain": [
       "array([[1, 1],\n",
       "       [1, 1]])"
      ]
     },
     "execution_count": 47,
     "metadata": {},
     "output_type": "execute_result"
    }
   ],
   "source": [
    "#5. Return a new array of ones with same shape and type as a given array.{Hint: np.ones like}\n",
    "fill_ones_array=np.ones_like(fill_array)\n",
    "fill_ones_array"
   ]
  },
  {
   "cell_type": "code",
   "execution_count": 48,
   "metadata": {
    "colab": {
     "base_uri": "https://localhost:8080/"
    },
    "executionInfo": {
     "elapsed": 38,
     "status": "ok",
     "timestamp": 1732962868587,
     "user": {
      "displayName": "Anwesh Rawat",
      "userId": "12194484589439496541"
     },
     "user_tz": -345
    },
    "id": "0pXMMlbHpyfh",
    "outputId": "8f80b558-f08c-47c3-a095-4cfab4c601fb"
   },
   "outputs": [
    {
     "data": {
      "text/plain": [
       "array([1, 2, 3, 4])"
      ]
     },
     "execution_count": 48,
     "metadata": {},
     "output_type": "execute_result"
    }
   ],
   "source": [
    "#6. For an existing list new_list = [1,2,3,4] convert to an numpy array.{Hint: np.array()}\n",
    "new_list=[1,2,3,4]\n",
    "new_array=np.array(new_list)\n",
    "new_array"
   ]
  },
  {
   "cell_type": "markdown",
   "metadata": {
    "id": "s6Uqur_6qIDl"
   },
   "source": [
    "### Problem-2: Array Manipulation: Numerical Ranges and Array Indexing'"
   ]
  },
  {
   "cell_type": "code",
   "execution_count": 49,
   "metadata": {
    "colab": {
     "base_uri": "https://localhost:8080/"
    },
    "executionInfo": {
     "elapsed": 38,
     "status": "ok",
     "timestamp": 1732962868588,
     "user": {
      "displayName": "Anwesh Rawat",
      "userId": "12194484589439496541"
     },
     "user_tz": -345
    },
    "id": "NcoWZZoGqeBB",
    "outputId": "84836609-d862-4b81-87f1-fc269faddc2b"
   },
   "outputs": [
    {
     "data": {
      "text/plain": [
       "array([10, 11, 12, 13, 14, 15, 16, 17, 18, 19, 20, 21, 22, 23, 24, 25, 26,\n",
       "       27, 28, 29, 30, 31, 32, 33, 34, 35, 36, 37, 38, 39, 40, 41, 42, 43,\n",
       "       44, 45, 46, 47, 48])"
      ]
     },
     "execution_count": 49,
     "metadata": {},
     "output_type": "execute_result"
    }
   ],
   "source": [
    "#1. Create an array with values ranging from 10 to 49. {Hint:np.arrange()}.\n",
    "ranging_array=np.arange(10,49)\n",
    "ranging_array"
   ]
  },
  {
   "cell_type": "code",
   "execution_count": 50,
   "metadata": {
    "colab": {
     "base_uri": "https://localhost:8080/"
    },
    "executionInfo": {
     "elapsed": 37,
     "status": "ok",
     "timestamp": 1732962868588,
     "user": {
      "displayName": "Anwesh Rawat",
      "userId": "12194484589439496541"
     },
     "user_tz": -345
    },
    "id": "-rvI6_A1rFNU",
    "outputId": "58207713-43aa-44a1-c59d-d47d83fc67e6"
   },
   "outputs": [
    {
     "name": "stdout",
     "output_type": "stream",
     "text": [
      "Before arranging: [0 1 2 3 4 5 6 7 8]\n",
      "After arranging: [[0 1 2]\n",
      " [3 4 5]\n",
      " [6 7 8]]\n"
     ]
    }
   ],
   "source": [
    "#2. Create a 3X3 matrix with values ranging from 0 to 8.{Hint:look for np.reshape()}\n",
    "ranging_array2=np.arange(0,9)\n",
    "print(f\"Before arranging: {ranging_array2}\")\n",
    "reshaped_ranging_array2=ranging_array2.reshape(3,3)\n",
    "print(f\"After arranging: {reshaped_ranging_array2}\")"
   ]
  },
  {
   "cell_type": "code",
   "execution_count": 51,
   "metadata": {
    "colab": {
     "base_uri": "https://localhost:8080/"
    },
    "executionInfo": {
     "elapsed": 35,
     "status": "ok",
     "timestamp": 1732962868588,
     "user": {
      "displayName": "Anwesh Rawat",
      "userId": "12194484589439496541"
     },
     "user_tz": -345
    },
    "id": "3AqNnoPZtrXK",
    "outputId": "5f1d9df6-5d6d-4605-ae04-79e40c1424da"
   },
   "outputs": [
    {
     "data": {
      "text/plain": [
       "array([[1., 0., 0.],\n",
       "       [0., 1., 0.],\n",
       "       [0., 0., 1.]])"
      ]
     },
     "execution_count": 51,
     "metadata": {},
     "output_type": "execute_result"
    }
   ],
   "source": [
    "#3. Create a 3X3 identity matrix.{Hint:np.eye()}\n",
    "i_matrix=np.eye(3)\n",
    "i_matrix"
   ]
  },
  {
   "cell_type": "code",
   "execution_count": 52,
   "metadata": {
    "colab": {
     "base_uri": "https://localhost:8080/"
    },
    "executionInfo": {
     "elapsed": 34,
     "status": "ok",
     "timestamp": 1732962868588,
     "user": {
      "displayName": "Anwesh Rawat",
      "userId": "12194484589439496541"
     },
     "user_tz": -345
    },
    "id": "ovIs0AFJuwai",
    "outputId": "dfefd104-1ea2-44d8-edf2-049e98ae696f"
   },
   "outputs": [
    {
     "name": "stdout",
     "output_type": "stream",
     "text": [
      "Random array: [0.03684576 0.86535903 0.60704392 0.82054924 0.67283008 0.80035078\n",
      " 0.24506852 0.56124694 0.86315998 0.69908414 0.13126703 0.56082123\n",
      " 0.47302724 0.35671114 0.65944465 0.97345402 0.00610401 0.74382239\n",
      " 0.16920358 0.07764667 0.97236996 0.5182632  0.77007113 0.51543986\n",
      " 0.47020388 0.12300551 0.1481688  0.77900525 0.51054784 0.09907938]\n",
      "Mean of the array: 0.5076398384769342\n"
     ]
    }
   ],
   "source": [
    "#4. Create a random array of size 30 and find the mean of the array.{Hint:check for np.random.random() and array.mean() function}\n",
    "randomarray=np.random.random(30)\n",
    "print(f\"Random array: {randomarray}\")\n",
    "print(f\"Mean of the array: {randomarray.mean()}\")"
   ]
  },
  {
   "cell_type": "code",
   "execution_count": 53,
   "metadata": {
    "colab": {
     "base_uri": "https://localhost:8080/"
    },
    "executionInfo": {
     "elapsed": 33,
     "status": "ok",
     "timestamp": 1732962868588,
     "user": {
      "displayName": "Anwesh Rawat",
      "userId": "12194484589439496541"
     },
     "user_tz": -345
    },
    "id": "X20G7D9HA4fX",
    "outputId": "c601404c-f7c9-4cbe-e9ba-934fdaa13af8"
   },
   "outputs": [
    {
     "name": "stdout",
     "output_type": "stream",
     "text": [
      "Random array: [[0.3832491  0.60023254 0.82297887 0.56640278 0.06769044 0.48232049\n",
      "  0.00947205 0.22918857 0.56284969 0.04153617]\n",
      " [0.8031686  0.60620859 0.29262054 0.16192665 0.4090948  0.47106436\n",
      "  0.64226915 0.22649583 0.8224828  0.95116117]\n",
      " [0.00243308 0.94345135 0.48683997 0.91973821 0.87968681 0.77762524\n",
      "  0.34239986 0.34923785 0.67053005 0.86173753]\n",
      " [0.02388288 0.14713414 0.13022613 0.56753046 0.64297962 0.61776626\n",
      "  0.67935227 0.92311363 0.89773897 0.38438855]\n",
      " [0.24819295 0.44822824 0.60611284 0.77712494 0.02394256 0.85939965\n",
      "  0.64370053 0.14195754 0.05032967 0.27456952]\n",
      " [0.67923584 0.53265746 0.21893868 0.56596577 0.26979572 0.19178979\n",
      "  0.21962445 0.27727959 0.47200817 0.70694065]\n",
      " [0.48008256 0.93092022 0.84944038 0.21393769 0.24275277 0.49024027\n",
      "  0.71510931 0.61879425 0.10651005 0.71062572]\n",
      " [0.88710007 0.98993971 0.22047009 0.94832145 0.38112784 0.10388688\n",
      "  0.58372924 0.84656954 0.33852828 0.04275603]\n",
      " [0.21835436 0.7860574  0.27009816 0.37229588 0.38711485 0.09451313\n",
      "  0.97346129 0.10017454 0.77738813 0.01738437]\n",
      " [0.94890033 0.30638197 0.21572456 0.44942587 0.97800203 0.58584353\n",
      "  0.84110324 0.4914749  0.20038698 0.97917595]]\n",
      "Minimum value: 0.0024330759347043207\n",
      "Maximum value: 0.9899397063546276\n"
     ]
    }
   ],
   "source": [
    "#5. Create a 10X10 array with random values and find the minimum and maximum values.\n",
    "random_array2=np.random.random((10,10))\n",
    "print(f\"Random array: {random_array2}\")\n",
    "print(f\"Minimum value: {random_array2.min()}\")\n",
    "print(f\"Maximum value: {random_array2.max()}\")"
   ]
  },
  {
   "cell_type": "code",
   "execution_count": 54,
   "metadata": {
    "colab": {
     "base_uri": "https://localhost:8080/"
    },
    "executionInfo": {
     "elapsed": 32,
     "status": "ok",
     "timestamp": 1732962868588,
     "user": {
      "displayName": "Anwesh Rawat",
      "userId": "12194484589439496541"
     },
     "user_tz": -345
    },
    "id": "_b-mcr2zBQiZ",
    "outputId": "58683bc3-4300-489b-c883-e8faa63748e2"
   },
   "outputs": [
    {
     "name": "stdout",
     "output_type": "stream",
     "text": [
      "Original Array: [0. 0. 0. 0. 0. 0. 0. 0. 0. 0.]\n",
      "Modified Array: [0. 0. 0. 0. 1. 0. 0. 0. 0. 0.]\n"
     ]
    }
   ],
   "source": [
    "#6. Create a zero array of size 10 and replace 5th element with 1.\n",
    "zarray=np.zeros(10)\n",
    "print(f\"Original Array: {zarray}\")\n",
    "zarray[4]=1\n",
    "print(f\"Modified Array: {zarray}\")"
   ]
  },
  {
   "cell_type": "code",
   "execution_count": 55,
   "metadata": {
    "colab": {
     "base_uri": "https://localhost:8080/"
    },
    "executionInfo": {
     "elapsed": 31,
     "status": "ok",
     "timestamp": 1732962868588,
     "user": {
      "displayName": "Anwesh Rawat",
      "userId": "12194484589439496541"
     },
     "user_tz": -345
    },
    "id": "86EEAREhCB--",
    "outputId": "3562ec52-1ec7-4e3f-fb40-b03b565ce80a"
   },
   "outputs": [
    {
     "data": {
      "text/plain": [
       "array([0, 4, 0, 0, 2, 1])"
      ]
     },
     "execution_count": 55,
     "metadata": {},
     "output_type": "execute_result"
    }
   ],
   "source": [
    "#7. Reverse an array arr = [1,2,0,0,4,0].\n",
    "arr = [1,2,0,0,4,0]\n",
    "reversedarray=np.flip(arr)\n",
    "reversedarray"
   ]
  },
  {
   "cell_type": "code",
   "execution_count": 56,
   "metadata": {
    "colab": {
     "base_uri": "https://localhost:8080/"
    },
    "executionInfo": {
     "elapsed": 29,
     "status": "ok",
     "timestamp": 1732962868588,
     "user": {
      "displayName": "Anwesh Rawat",
      "userId": "12194484589439496541"
     },
     "user_tz": -345
    },
    "id": "Ed-y0YRwCjPi",
    "outputId": "e76f9bd7-c085-4ee1-8acd-b7fe1bb0b93e"
   },
   "outputs": [
    {
     "name": "stdout",
     "output_type": "stream",
     "text": [
      "Original Array: \n",
      "[[1. 1. 1.]\n",
      " [1. 1. 1.]\n",
      " [1. 1. 1.]]\n",
      "Modified Array: \n",
      "[[1. 1. 1.]\n",
      " [1. 0. 1.]\n",
      " [1. 1. 1.]]\n"
     ]
    }
   ],
   "source": [
    "#8. Create a 2d array with 1 on border and 0 inside.\n",
    "original_array=np.ones([3,3])\n",
    "print(f\"Original Array: \\n{original_array}\")\n",
    "original_array[1][1]=0\n",
    "print(f\"Modified Array: \\n{original_array}\")"
   ]
  },
  {
   "cell_type": "code",
   "execution_count": 57,
   "metadata": {
    "colab": {
     "base_uri": "https://localhost:8080/"
    },
    "executionInfo": {
     "elapsed": 28,
     "status": "ok",
     "timestamp": 1732962868588,
     "user": {
      "displayName": "Anwesh Rawat",
      "userId": "12194484589439496541"
     },
     "user_tz": -345
    },
    "id": "MCq-p5cXHORJ",
    "outputId": "b489717f-c85c-49f9-cd1f-e5eb5f4089da"
   },
   "outputs": [
    {
     "name": "stdout",
     "output_type": "stream",
     "text": [
      "Original Array: \n",
      "[[0. 0. 0. 0. 0. 0. 0. 0.]\n",
      " [0. 0. 0. 0. 0. 0. 0. 0.]\n",
      " [0. 0. 0. 0. 0. 0. 0. 0.]\n",
      " [0. 0. 0. 0. 0. 0. 0. 0.]\n",
      " [0. 0. 0. 0. 0. 0. 0. 0.]\n",
      " [0. 0. 0. 0. 0. 0. 0. 0.]\n",
      " [0. 0. 0. 0. 0. 0. 0. 0.]\n",
      " [0. 0. 0. 0. 0. 0. 0. 0.]]\n",
      "Modified Array: \n",
      "[[0. 1. 0. 1. 0. 1. 0. 1.]\n",
      " [1. 0. 1. 0. 1. 0. 1. 0.]\n",
      " [0. 1. 0. 1. 0. 1. 0. 1.]\n",
      " [1. 0. 1. 0. 1. 0. 1. 0.]\n",
      " [0. 1. 0. 1. 0. 1. 0. 1.]\n",
      " [1. 0. 1. 0. 1. 0. 1. 0.]\n",
      " [0. 1. 0. 1. 0. 1. 0. 1.]\n",
      " [1. 0. 1. 0. 1. 0. 1. 0.]]\n"
     ]
    }
   ],
   "source": [
    "#9. Create a 8X8 matrix and fill it with a checkerboard pattern.\n",
    "checkerboard_array=np.zeros([8,8])\n",
    "print(f\"Original Array: \\n{checkerboard_array}\")\n",
    "checkerboard_array[1::2,::2]=1\n",
    "checkerboard_array[::2,1::2]=1\n",
    "print(f\"Modified Array: \\n{checkerboard_array}\")"
   ]
  },
  {
   "cell_type": "markdown",
   "metadata": {
    "id": "bBDbRZXHj8Jj"
   },
   "source": [
    "### Problem - 3: Array Operations:"
   ]
  },
  {
   "cell_type": "code",
   "execution_count": 58,
   "metadata": {
    "executionInfo": {
     "elapsed": 27,
     "status": "ok",
     "timestamp": 1732962868588,
     "user": {
      "displayName": "Anwesh Rawat",
      "userId": "12194484589439496541"
     },
     "user_tz": -345
    },
    "id": "64BO0ElikAAr"
   },
   "outputs": [],
   "source": [
    "x = np.array([[1,2],[3,5]])\n",
    "y = np.array([[5,6],[7,8]])\n",
    "v = np.array([9,10])\n",
    "w = np.array([11,12])"
   ]
  },
  {
   "cell_type": "code",
   "execution_count": 59,
   "metadata": {
    "colab": {
     "base_uri": "https://localhost:8080/"
    },
    "executionInfo": {
     "elapsed": 27,
     "status": "ok",
     "timestamp": 1732962868589,
     "user": {
      "displayName": "Anwesh Rawat",
      "userId": "12194484589439496541"
     },
     "user_tz": -345
    },
    "id": "NjtdTC3skNs9",
    "outputId": "432be628-20b8-4b44-e726-3c4acf281264"
   },
   "outputs": [
    {
     "name": "stdout",
     "output_type": "stream",
     "text": [
      "First output: \n",
      "[[ 6  8]\n",
      " [10 13]]\n",
      "\n",
      "Second output: \n",
      "[20 22]\n"
     ]
    }
   ],
   "source": [
    "#1. Add the two array.\n",
    "print(f\"First output: \\n{np.add(x,y)}\\n\")\n",
    "print(f\"Second output: \\n{np.add(v,w)}\")"
   ]
  },
  {
   "cell_type": "code",
   "execution_count": 60,
   "metadata": {
    "colab": {
     "base_uri": "https://localhost:8080/"
    },
    "executionInfo": {
     "elapsed": 26,
     "status": "ok",
     "timestamp": 1732962868589,
     "user": {
      "displayName": "Anwesh Rawat",
      "userId": "12194484589439496541"
     },
     "user_tz": -345
    },
    "id": "nH65o4prkwoQ",
    "outputId": "8ff2f9ce-b07a-46b0-9084-e21106963f4e"
   },
   "outputs": [
    {
     "name": "stdout",
     "output_type": "stream",
     "text": [
      "First output: \n",
      "[[-4 -4]\n",
      " [-4 -3]]\n",
      "\n",
      "Second output: \n",
      "[-2 -2]\n"
     ]
    }
   ],
   "source": [
    "#2. Subtract the two array.\n",
    "print(f\"First output: \\n{np.subtract(x,y)}\\n\")\n",
    "print(f\"Second output: \\n{np.subtract(v,w)}\")"
   ]
  },
  {
   "cell_type": "code",
   "execution_count": 61,
   "metadata": {
    "colab": {
     "base_uri": "https://localhost:8080/"
    },
    "executionInfo": {
     "elapsed": 24,
     "status": "ok",
     "timestamp": 1732962868589,
     "user": {
      "displayName": "Anwesh Rawat",
      "userId": "12194484589439496541"
     },
     "user_tz": -345
    },
    "id": "7jDLXXWFlQor",
    "outputId": "00f0496e-0f39-45f6-8eb9-894cbd80f46e"
   },
   "outputs": [
    {
     "name": "stdout",
     "output_type": "stream",
     "text": [
      "[[ 2  4]\n",
      " [ 6 10]]\n",
      "\n",
      "[[10 12]\n",
      " [14 16]]\n",
      "\n",
      "[18 20]\n",
      "\n",
      "[22 24]\n",
      "\n"
     ]
    }
   ],
   "source": [
    "#3. Multiply the array with any integers of your choice.\n",
    "print(f\"{x*2}\\n\")\n",
    "print(f\"{y*2}\\n\")\n",
    "print(f\"{v*2}\\n\")\n",
    "print(f\"{w*2}\\n\")"
   ]
  },
  {
   "cell_type": "code",
   "execution_count": 62,
   "metadata": {
    "colab": {
     "base_uri": "https://localhost:8080/"
    },
    "executionInfo": {
     "elapsed": 23,
     "status": "ok",
     "timestamp": 1732962868589,
     "user": {
      "displayName": "Anwesh Rawat",
      "userId": "12194484589439496541"
     },
     "user_tz": -345
    },
    "id": "l_eZ2s_Xl1A_",
    "outputId": "4fd1cee8-9db9-4f12-b701-091eb30887d2"
   },
   "outputs": [
    {
     "name": "stdout",
     "output_type": "stream",
     "text": [
      "[[ 1  4]\n",
      " [ 9 25]]\n",
      "\n",
      "[[25 36]\n",
      " [49 64]]\n",
      "\n",
      "[ 81 100]\n",
      "\n",
      "[121 144]\n",
      "\n"
     ]
    }
   ],
   "source": [
    "#4. Find the square of each element of the array.\n",
    "print(f\"{x**2}\\n\")\n",
    "print(f\"{y**2}\\n\")\n",
    "print(f\"{v**2}\\n\")\n",
    "print(f\"{w**2}\\n\")"
   ]
  },
  {
   "cell_type": "code",
   "execution_count": 63,
   "metadata": {
    "colab": {
     "base_uri": "https://localhost:8080/"
    },
    "executionInfo": {
     "elapsed": 22,
     "status": "ok",
     "timestamp": 1732962868589,
     "user": {
      "displayName": "Anwesh Rawat",
      "userId": "12194484589439496541"
     },
     "user_tz": -345
    },
    "id": "K4nx17himKPC",
    "outputId": "283e7cff-9a8b-4493-da99-e85a24fb5c44"
   },
   "outputs": [
    {
     "name": "stdout",
     "output_type": "stream",
     "text": [
      "First output: \n",
      "219\n",
      "\n",
      "Second output: \n",
      "[29 77]\n",
      "\n",
      "Third output: \n",
      "[[19 22]\n",
      " [50 58]]\n",
      "\n"
     ]
    }
   ],
   "source": [
    "#5. Find the dot product between: v(and)w ; x(and)v ; x(and)y.\n",
    "print(f\"First output: \\n{np.dot(v,w)}\\n\")\n",
    "print(f\"Second output: \\n{np.dot(x,v)}\\n\")\n",
    "print(f\"Third output: \\n{np.dot(x,y)}\\n\")"
   ]
  },
  {
   "cell_type": "code",
   "execution_count": 64,
   "metadata": {
    "colab": {
     "base_uri": "https://localhost:8080/"
    },
    "executionInfo": {
     "elapsed": 21,
     "status": "ok",
     "timestamp": 1732962868589,
     "user": {
      "displayName": "Anwesh Rawat",
      "userId": "12194484589439496541"
     },
     "user_tz": -345
    },
    "id": "M3KBojF_n_TG",
    "outputId": "5f6917ad-c515-4053-9d97-3b78a99a713b"
   },
   "outputs": [
    {
     "name": "stdout",
     "output_type": "stream",
     "text": [
      "First output: \n",
      "[[1 2 5 6]\n",
      " [3 5 7 8]]\n",
      "\n",
      "Second output: \n",
      "[ 9 10 11 12]\n",
      "\n"
     ]
    }
   ],
   "source": [
    "#6. Concatenate x(and)y along row and Concatenate v(and)w along column.{Hint:try np.concatenate() or np.vstack() functions.\n",
    "print(f\"First output: \\n{np.concatenate((x,y),axis=1)}\\n\")\n",
    "print(f\"Second output: \\n{np.concatenate((v,w),axis=0)}\\n\")"
   ]
  },
  {
   "cell_type": "code",
   "execution_count": 65,
   "metadata": {
    "colab": {
     "base_uri": "https://localhost:8080/",
     "height": 193
    },
    "executionInfo": {
     "elapsed": 20,
     "status": "error",
     "timestamp": 1732962868589,
     "user": {
      "displayName": "Anwesh Rawat",
      "userId": "12194484589439496541"
     },
     "user_tz": -345
    },
    "id": "IZCKdskflGiy",
    "outputId": "ef73cf06-993a-465b-d36b-7d5039edff73"
   },
   "outputs": [
    {
     "ename": "ValueError",
     "evalue": "all the input arrays must have same number of dimensions, but the array at index 0 has 2 dimension(s) and the array at index 1 has 1 dimension(s)",
     "output_type": "error",
     "traceback": [
      "\u001b[0;31m---------------------------------------------------------------------------\u001b[0m",
      "\u001b[0;31mValueError\u001b[0m                                Traceback (most recent call last)",
      "\u001b[0;32m<ipython-input-65-63cf0298b8b4>\u001b[0m in \u001b[0;36m<cell line: 2>\u001b[0;34m()\u001b[0m\n\u001b[1;32m      1\u001b[0m \u001b[0;31m#7. Concatenate x(and)v; if you get an error, observe and explain why did you get the error?\u001b[0m\u001b[0;34m\u001b[0m\u001b[0;34m\u001b[0m\u001b[0m\n\u001b[0;32m----> 2\u001b[0;31m \u001b[0mprint\u001b[0m\u001b[0;34m(\u001b[0m\u001b[0;34mf\"Output: {np.concatenate((x,v),axis=1)}\"\u001b[0m\u001b[0;34m)\u001b[0m\u001b[0;34m\u001b[0m\u001b[0;34m\u001b[0m\u001b[0m\n\u001b[0m",
      "\u001b[0;31mValueError\u001b[0m: all the input arrays must have same number of dimensions, but the array at index 0 has 2 dimension(s) and the array at index 1 has 1 dimension(s)"
     ]
    }
   ],
   "source": [
    "#7. Concatenate x(and)v; if you get an error, observe and explain why did you get the error?\n",
    "print(f\"Output: {np.concatenate((x,v),axis=1)}\")"
   ]
  },
  {
   "cell_type": "markdown",
   "metadata": {
    "id": "JzBMP6tjmyON"
   },
   "source": [
    "We get and error while concatenating x and v because they are of different dimensions."
   ]
  },
  {
   "cell_type": "markdown",
   "metadata": {
    "id": "YK_CXqAAm-_X"
   },
   "source": [
    "### Problem - 4: Matrix Operations:"
   ]
  },
  {
   "cell_type": "code",
   "execution_count": 66,
   "metadata": {
    "colab": {
     "base_uri": "https://localhost:8080/"
    },
    "executionInfo": {
     "elapsed": 1416,
     "status": "ok",
     "timestamp": 1732962880097,
     "user": {
      "displayName": "Anwesh Rawat",
      "userId": "12194484589439496541"
     },
     "user_tz": -345
    },
    "id": "QsHNyia2nCB3",
    "outputId": "5558c16b-e887-41c3-e5c2-980d0f12d767"
   },
   "outputs": [
    {
     "name": "stdout",
     "output_type": "stream",
     "text": [
      "A:\n",
      "[[3 4]\n",
      " [7 8]] \n",
      "B:\n",
      "[[5 3]\n",
      " [2 1]]\n"
     ]
    }
   ],
   "source": [
    "A = np.array([[3,4],[7,8]])\n",
    "B = np.array([[5,3],[2,1]])\n",
    "print(f\"A:\\n{A} \\nB:\\n{B}\")"
   ]
  },
  {
   "cell_type": "code",
   "execution_count": 67,
   "metadata": {
    "colab": {
     "base_uri": "https://localhost:8080/"
    },
    "executionInfo": {
     "elapsed": 6,
     "status": "ok",
     "timestamp": 1732962880795,
     "user": {
      "displayName": "Anwesh Rawat",
      "userId": "12194484589439496541"
     },
     "user_tz": -345
    },
    "id": "JwDwEQxLncTJ",
    "outputId": "94e7aac6-596f-4da2-d1d7-30046d624487"
   },
   "outputs": [
    {
     "name": "stdout",
     "output_type": "stream",
     "text": [
      "Ainv:\n",
      "[[-2.    1.  ]\n",
      " [ 1.75 -0.75]]\n",
      "A.Ainv:\n",
      "[[1.00000000e+00 0.00000000e+00]\n",
      " [1.77635684e-15 1.00000000e+00]]\n"
     ]
    }
   ],
   "source": [
    "#1. Prove A.A−1 = I.\n",
    "Ainv=np.linalg.inv(A)\n",
    "print(f\"Ainv:\\n{Ainv}\")\n",
    "print(f\"A.Ainv:\\n{np.dot(A,Ainv)}\")"
   ]
  },
  {
   "cell_type": "code",
   "execution_count": 68,
   "metadata": {
    "colab": {
     "base_uri": "https://localhost:8080/"
    },
    "executionInfo": {
     "elapsed": 5,
     "status": "ok",
     "timestamp": 1732962880795,
     "user": {
      "displayName": "Anwesh Rawat",
      "userId": "12194484589439496541"
     },
     "user_tz": -345
    },
    "id": "BcaYL9S0IGrC",
    "outputId": "b2a1bc2b-2516-43fd-e342-1b91a154cda8"
   },
   "outputs": [
    {
     "name": "stdout",
     "output_type": "stream",
     "text": [
      "AB:\n",
      "[[23 13]\n",
      " [51 29]]\n",
      "BA:\n",
      "[[36 44]\n",
      " [13 16]]\n"
     ]
    }
   ],
   "source": [
    "#2. Prove AB ̸= BA.\n",
    "print(f\"AB:\\n{np.dot(A,B)}\")\n",
    "print(f\"BA:\\n{np.dot(B,A)}\")"
   ]
  },
  {
   "cell_type": "code",
   "execution_count": 69,
   "metadata": {
    "colab": {
     "base_uri": "https://localhost:8080/"
    },
    "executionInfo": {
     "elapsed": 3,
     "status": "ok",
     "timestamp": 1732962880795,
     "user": {
      "displayName": "Anwesh Rawat",
      "userId": "12194484589439496541"
     },
     "user_tz": -345
    },
    "id": "8y2Mc2m_IMxx",
    "outputId": "a0069f88-d450-48f6-9cea-8b55dfd60e4b"
   },
   "outputs": [
    {
     "name": "stdout",
     "output_type": "stream",
     "text": [
      "(AB)T:\n",
      "[[23 51]\n",
      " [13 29]]\n",
      "BT.AT:\n",
      "[[23 51]\n",
      " [13 29]]\n"
     ]
    }
   ],
   "source": [
    "#3. Prove (AB)T = BT.AT.\n",
    "AB=np.dot(A,B)\n",
    "BT=np.transpose(B)\n",
    "AT=np.transpose(A)\n",
    "print(f\"(AB)T:\\n{np.transpose(AB)}\")\n",
    "print(f\"BT.AT:\\n{np.dot(BT,AT)}\")"
   ]
  },
  {
   "cell_type": "code",
   "execution_count": 70,
   "metadata": {
    "colab": {
     "base_uri": "https://localhost:8080/"
    },
    "executionInfo": {
     "elapsed": 2,
     "status": "ok",
     "timestamp": 1732962882142,
     "user": {
      "displayName": "Anwesh Rawat",
      "userId": "12194484589439496541"
     },
     "user_tz": -345
    },
    "id": "eUQoTYvQdJ_W",
    "outputId": "f42e1d9e-83a4-451b-9e3b-b2f87ead84a3"
   },
   "outputs": [
    {
     "name": "stdout",
     "output_type": "stream",
     "text": [
      "x=2.0\n",
      "y=1.0\n",
      "z=-2.0\n"
     ]
    }
   ],
   "source": [
    "#• Solve the following system of Linear equation using Inverse Methods.\n",
    "#2x − 3y + z = −1\n",
    "#x − y + 2z = −3\n",
    "#3x + y − z = 9\n",
    "A=np.array([[2,-3,1],[1,-1,2],[3,1,-1]])\n",
    "B=np.array([-1,-3,9])\n",
    "AI=np.linalg.inv(A)\n",
    "X=np.dot(AI,B)\n",
    "print(f\"x={X[0]}\\ny={X[1]}\\nz={X[2]}\")"
   ]
  },
  {
   "cell_type": "markdown",
   "metadata": {
    "id": "6Bk0XBCzeNEe"
   },
   "source": [
    "### Experiment: How Fast is Numpy?"
   ]
  },
  {
   "cell_type": "markdown",
   "metadata": {
    "id": "nganmn7PeUJW"
   },
   "source": [
    "#### 1. Element-wise Addition"
   ]
  },
  {
   "cell_type": "code",
   "execution_count": 84,
   "metadata": {
    "colab": {
     "base_uri": "https://localhost:8080/"
    },
    "executionInfo": {
     "elapsed": 3134,
     "status": "ok",
     "timestamp": 1732964746678,
     "user": {
      "displayName": "Anwesh Rawat",
      "userId": "12194484589439496541"
     },
     "user_tz": -345
    },
    "id": "6T0wpJTfeX8X",
    "outputId": "33046ea8-97ad-4207-91ae-7ad4e022f220"
   },
   "outputs": [
    {
     "name": "stdout",
     "output_type": "stream",
     "text": [
      "Python Time: 0.41623239000000467\n",
      "Numpy Time: 0.002262935999169713\n"
     ]
    }
   ],
   "source": [
    "import random\n",
    "from timeit import timeit\n",
    "def add_python(Z1,Z2):\n",
    "  return [z1+z2 for z1,z2 in zip(Z1,Z2)]\n",
    "def add_numpy(Z1,Z2):\n",
    "  return np.add(Z1,Z2)\n",
    "size=1000000\n",
    "Z1_list=random.sample(range(size+1),size)\n",
    "Z2_list=random.sample(range(size+1),size)\n",
    "Z1_np=np.array(Z1_list)\n",
    "Z2_np=np.array(Z2_list)\n",
    "python_time=timeit(\"add_python(Z1_list,Z2_list)\",number=1,globals=globals())\n",
    "numpy_time=timeit(\"add_numpy(Z1_np,Z2_np)\",number=1,globals=globals())\n",
    "print(\"Python Time:\",python_time)\n",
    "print(\"Numpy Time:\",numpy_time)"
   ]
  },
  {
   "cell_type": "markdown",
   "metadata": {
    "id": "cQWCo2aHoewE"
   },
   "source": [
    "#### 2. Element-wise Multiplication"
   ]
  },
  {
   "cell_type": "code",
   "execution_count": 83,
   "metadata": {
    "colab": {
     "base_uri": "https://localhost:8080/"
    },
    "executionInfo": {
     "elapsed": 3076,
     "status": "ok",
     "timestamp": 1732964739691,
     "user": {
      "displayName": "Anwesh Rawat",
      "userId": "12194484589439496541"
     },
     "user_tz": -345
    },
    "id": "xPc8OC-5okPs",
    "outputId": "d722c028-ed1c-43ab-cd94-09a246cfc2d0"
   },
   "outputs": [
    {
     "name": "stdout",
     "output_type": "stream",
     "text": [
      "Python Time: 0.32532780900146463\n",
      "Numpy Time: 0.0019809200002782745\n"
     ]
    }
   ],
   "source": [
    "def mul_python(Z1,Z2):\n",
    "  return [z1*z2 for z1,z2 in zip(Z1,Z2)]\n",
    "def mul_numpy(Z1,Z2):\n",
    "  return np.multiply(Z1,Z2)\n",
    "size=1000000\n",
    "Z1_list=random.sample(range(size+1),size)\n",
    "Z2_list=random.sample(range(size+1),size)\n",
    "Z1_np=np.array(Z1_list)\n",
    "Z2_np=np.array(Z2_list)\n",
    "python_time=timeit(\"mul_python(Z1_list,Z2_list)\",number=1,globals=globals())\n",
    "numpy_time=timeit(\"mul_numpy(Z1_np,Z2_np)\",number=1,globals=globals())\n",
    "print(\"Python Time:\",python_time)\n",
    "print(\"Numpy Time:\",numpy_time)"
   ]
  },
  {
   "cell_type": "markdown",
   "metadata": {
    "id": "E9T7Ty28usZM"
   },
   "source": [
    "#### 3. Dot product"
   ]
  },
  {
   "cell_type": "code",
   "execution_count": 102,
   "metadata": {
    "colab": {
     "base_uri": "https://localhost:8080/"
    },
    "executionInfo": {
     "elapsed": 2991,
     "status": "ok",
     "timestamp": 1732969389072,
     "user": {
      "displayName": "Anwesh Rawat",
      "userId": "12194484589439496541"
     },
     "user_tz": -345
    },
    "id": "0ROrhCayuwK9",
    "outputId": "5b72a250-a5c1-4fa5-ce4c-d164a7acb5fd"
   },
   "outputs": [
    {
     "name": "stdout",
     "output_type": "stream",
     "text": [
      "Python Time: 0.36014910099947883\n",
      "Numpy Time: 0.0014838370007055346\n"
     ]
    }
   ],
   "source": [
    "def dot_python(Z1,Z2):\n",
    "  return sum(z1*z2 for z1,z2 in zip(Z1,Z2))\n",
    "def dot_numpy(Z1,Z2):\n",
    "  return np.dot(Z1,Z2)\n",
    "size=1000000\n",
    "Z1_list=random.sample(range(size+1),size)\n",
    "Z2_list=random.sample(range(size+1),size)\n",
    "Z1_np=np.array(Z1_list)\n",
    "Z2_np=np.array(Z2_list)\n",
    "python_time=timeit(\"dot_python(Z1_list,Z2_list)\",number=1,globals=globals())\n",
    "numpy_time=timeit(\"dot_numpy(Z1_np,Z2_np)\",number=1,globals=globals())\n",
    "print(\"Python Time:\",python_time)\n",
    "print(\"Numpy Time:\",numpy_time)"
   ]
  },
  {
   "cell_type": "markdown",
   "metadata": {
    "id": "Fi4UUbzOwnj5"
   },
   "source": [
    "#### 4. Matrix Multiplication"
   ]
  },
  {
   "cell_type": "code",
   "execution_count": 95,
   "metadata": {
    "colab": {
     "base_uri": "https://localhost:8080/"
    },
    "executionInfo": {
     "elapsed": 254059,
     "status": "ok",
     "timestamp": 1732968655882,
     "user": {
      "displayName": "Anwesh Rawat",
      "userId": "12194484589439496541"
     },
     "user_tz": -345
    },
    "id": "AjN1EHyE6dFJ",
    "outputId": "4313dff3-9d9d-467a-98d9-aa1215734697"
   },
   "outputs": [
    {
     "name": "stdout",
     "output_type": "stream",
     "text": [
      "Python Time: 248.02482644700103\n",
      "Numpy Time: 4.06623671700072\n"
     ]
    }
   ],
   "source": [
    "size=1000\n",
    "Z1_list = [random.sample(range(size),size) for _ in range(size)]\n",
    "Z2_list = [random.sample(range(size),size) for _ in range(size)]\n",
    "Z1_np = np.array(Z1_list)\n",
    "Z2_np = np.array(Z2_list)\n",
    "def np_matmul(Z1,Z2):\n",
    "  return np.matmul(Z1,Z2)\n",
    "def python_matmul(Z1,Z2):\n",
    "  return [[sum(z1*z2 for z1,z2 in zip(Z1_row,Z2_col)) for Z2_col in zip(*Z2)] for Z1_row in Z1]\n",
    "python_time=timeit(\"python_matmul(Z1_list,Z2_list)\",number=1,globals=globals())\n",
    "numpy_time=timeit(\"np_matmul(Z1_np,Z2_np)\",number=1,globals=globals())\n",
    "print(\"Python Time:\",python_time)\n",
    "print(\"Numpy Time:\",numpy_time)"
   ]
  },
  {
   "cell_type": "markdown",
   "metadata": {
    "id": "abjODjucl78u"
   },
   "source": [
    "## Practice Questions"
   ]
  },
  {
   "cell_type": "code",
   "execution_count": 73,
   "metadata": {
    "colab": {
     "base_uri": "https://localhost:8080/"
    },
    "executionInfo": {
     "elapsed": 540,
     "status": "ok",
     "timestamp": 1732962904740,
     "user": {
      "displayName": "Anwesh Rawat",
      "userId": "12194484589439496541"
     },
     "user_tz": -345
    },
    "id": "AfKQmVdMbjjO",
    "outputId": "9832cde0-8575-4abc-8687-50e169993075"
   },
   "outputs": [
    {
     "name": "stdout",
     "output_type": "stream",
     "text": [
      " A zeros array is \n",
      " [[0. 0. 0.]\n",
      " [0. 0. 0.]]  with dimensions  (2, 3) \n",
      "\n"
     ]
    }
   ],
   "source": [
    "import numpy as np\n",
    "# initialize an all zero array with size 2 X 3:\n",
    "zeros_arr = np . zeros ((2 ,3) )\n",
    "print (\" A zeros array is \\n\", zeros_arr , \" with dimensions \", zeros_arr . shape , \"\\n\")"
   ]
  },
  {
   "cell_type": "code",
   "execution_count": 74,
   "metadata": {
    "colab": {
     "base_uri": "https://localhost:8080/"
    },
    "executionInfo": {
     "elapsed": 4,
     "status": "ok",
     "timestamp": 1732962905326,
     "user": {
      "displayName": "Anwesh Rawat",
      "userId": "12194484589439496541"
     },
     "user_tz": -345
    },
    "id": "7OGoz7bQbsU6",
    "outputId": "188906dc-884d-483d-b7bd-2c94f8656807"
   },
   "outputs": [
    {
     "name": "stdout",
     "output_type": "stream",
     "text": [
      " Array :\n",
      "5\\ nDimension : 0\\ nData type :int64\n",
      "\n",
      " Array :\n",
      "[1 2 3]\\ nDimension : 1\\ nData type :int64\n",
      "\n",
      " Array :\n",
      "[[1 2]\n",
      " [3 4]]\\ nDimension : 2\\ nData type :int64\n",
      "\n"
     ]
    }
   ],
   "source": [
    "import numpy as np\n",
    "# Create and display zero , one , and n- dimensional arrays\n",
    "zero_dim_array = np . array (5)\n",
    "one_dim_array = np . array ([1 , 2 , 3])\n",
    "n_dim_array = np . array ([[1 , 2] , [3 , 4]])\n",
    "for arr in [ zero_dim_array , one_dim_array , n_dim_array ]:\n",
    "  print ( f\" Array :\\n{arr }\\ nDimension : {arr. ndim }\\ nData type :{arr. dtype }\\n\")"
   ]
  },
  {
   "cell_type": "code",
   "execution_count": 75,
   "metadata": {
    "colab": {
     "base_uri": "https://localhost:8080/"
    },
    "executionInfo": {
     "elapsed": 3,
     "status": "ok",
     "timestamp": 1732962905326,
     "user": {
      "displayName": "Anwesh Rawat",
      "userId": "12194484589439496541"
     },
     "user_tz": -345
    },
    "id": "7myfqkegd9b1",
    "outputId": "1ca076ad-0600-4a58-9e9e-d18616bfe7e8"
   },
   "outputs": [
    {
     "name": "stdout",
     "output_type": "stream",
     "text": [
      " Original Shape : (2, 3) \\ nReshaped Shape : (3, 2)\n"
     ]
    }
   ],
   "source": [
    "import numpy as np\n",
    "array = np . array ([[1 , 2 , 3] , [4 , 5 , 6]]) # Shape (2 , 3)\n",
    "reshaped_array = array . reshape (3 , 2) # Reshape to (3 ,2) , keeping 6 elements\n",
    "print (\" Original Shape :\", array . shape , \"\\ nReshaped Shape :\", reshaped_array . shape )"
   ]
  },
  {
   "cell_type": "code",
   "execution_count": 76,
   "metadata": {
    "colab": {
     "base_uri": "https://localhost:8080/"
    },
    "executionInfo": {
     "elapsed": 5,
     "status": "ok",
     "timestamp": 1732962906215,
     "user": {
      "displayName": "Anwesh Rawat",
      "userId": "12194484589439496541"
     },
     "user_tz": -345
    },
    "id": "ohA_aagkcWBq",
    "outputId": "9f125564-4504-4dc7-8ca4-3bff4d89abd9"
   },
   "outputs": [
    {
     "name": "stdout",
     "output_type": "stream",
     "text": [
      "[1 2 3 4 5 6 7 8 9]\n",
      "range(1, 10)\n",
      "[1, 2, 3, 4, 5, 6, 7, 8, 9]\n",
      "[ 0.  1.  2.  3.  4.  5.  6.  7.  8.  9. 10.]\n",
      "[ 0.5  1.3  2.1  2.9  3.7  4.5  5.3  6.1  6.9  7.7  8.5  9.3 10.1]\n"
     ]
    }
   ],
   "source": [
    "import numpy as np\n",
    "a = np . arange (1 , 10)\n",
    "print ( a )\n",
    "x = range (1 , 10)\n",
    "print ( x ) # x is an iterator\n",
    "print ( list ( x ) )\n",
    "# further arange examples :\n",
    "x = np . arange (10.4)\n",
    "print ( x )\n",
    "x = np . arange (0.5 , 10.4 , 0.8)\n",
    "print ( x )"
   ]
  },
  {
   "cell_type": "code",
   "execution_count": 77,
   "metadata": {
    "colab": {
     "base_uri": "https://localhost:8080/"
    },
    "executionInfo": {
     "elapsed": 5,
     "status": "ok",
     "timestamp": 1732962906216,
     "user": {
      "displayName": "Anwesh Rawat",
      "userId": "12194484589439496541"
     },
     "user_tz": -345
    },
    "id": "gBU8PrjodMA0",
    "outputId": "0ff7d43f-bae3-4a17-be1c-6218d347887b"
   },
   "outputs": [
    {
     "name": "stdout",
     "output_type": "stream",
     "text": [
      "[ 1.          1.18367347  1.36734694  1.55102041  1.73469388  1.91836735\n",
      "  2.10204082  2.28571429  2.46938776  2.65306122  2.83673469  3.02040816\n",
      "  3.20408163  3.3877551   3.57142857  3.75510204  3.93877551  4.12244898\n",
      "  4.30612245  4.48979592  4.67346939  4.85714286  5.04081633  5.2244898\n",
      "  5.40816327  5.59183673  5.7755102   5.95918367  6.14285714  6.32653061\n",
      "  6.51020408  6.69387755  6.87755102  7.06122449  7.24489796  7.42857143\n",
      "  7.6122449   7.79591837  7.97959184  8.16326531  8.34693878  8.53061224\n",
      "  8.71428571  8.89795918  9.08163265  9.26530612  9.44897959  9.63265306\n",
      "  9.81632653 10.        ]\n",
      "[ 1.   2.5  4.   5.5  7.   8.5 10. ]\n",
      "[1.         2.28571429 3.57142857 4.85714286 6.14285714 7.42857143\n",
      " 8.71428571]\n"
     ]
    }
   ],
   "source": [
    "import numpy as np\n",
    "# 50 values between 1 and 10:\n",
    "print ( np . linspace (1 , 10) )\n",
    "# 7 values between 1 and 10:\n",
    "print ( np . linspace (1 , 10 , 7) )\n",
    "# excluding the endpoint :\n",
    "print ( np . linspace (1 , 10 , 7 , endpoint = False ) )"
   ]
  },
  {
   "cell_type": "code",
   "execution_count": 105,
   "metadata": {
    "colab": {
     "base_uri": "https://localhost:8080/"
    },
    "executionInfo": {
     "elapsed": 412,
     "status": "ok",
     "timestamp": 1732969600355,
     "user": {
      "displayName": "Anwesh Rawat",
      "userId": "12194484589439496541"
     },
     "user_tz": -345
    },
    "id": "B_J1zjowCTIs",
    "outputId": "1a529e70-a320-403a-c50e-be22cc2852c4"
   },
   "outputs": [
    {
     "name": "stdout",
     "output_type": "stream",
     "text": [
      "[[1 2 5 6]\n",
      " [3 4 7 8]]\n",
      "[[1 2]\n",
      " [3 4]\n",
      " [5 6]\n",
      " [7 8]]\n",
      "[[1 5]\n",
      " [2 6]]\n"
     ]
    }
   ],
   "source": [
    "import numpy as np\n",
    "arr1 = np . array ([[1 , 2] , [3 , 4]]) # Shape : (2 , 2)\n",
    "arr2 = np . array ([[5 , 6] , [7 , 8]]) # Shape : (2 , 2)\n",
    "# Stacking examples\n",
    "hstacked = np . hstack (( arr1 , arr2 ) )\n",
    "# Output hstack : [[1 2 5 6] [3 4 7 8]]\n",
    "vstacked = np . vstack (( arr1 , arr2 ) )\n",
    "# Output vstack [[1 2] [3 4] [5 6] [7 8]]\n",
    "colstacked = np . column_stack (( arr1 [0] , arr2 [0]) )\n",
    "# Output column stack : [[1 5] [2 6]]\n",
    "print ( hstacked , vstacked , colstacked , sep ='\\n')"
   ]
  },
  {
   "cell_type": "code",
   "execution_count": 104,
   "metadata": {
    "colab": {
     "base_uri": "https://localhost:8080/"
    },
    "executionInfo": {
     "elapsed": 427,
     "status": "ok",
     "timestamp": 1732969562824,
     "user": {
      "displayName": "Anwesh Rawat",
      "userId": "12194484589439496541"
     },
     "user_tz": -345
    },
    "id": "tX00DFikCLPN",
    "outputId": "5c4214bf-f8cb-457f-fdcb-262e8560498f"
   },
   "outputs": [
    {
     "name": "stdout",
     "output_type": "stream",
     "text": [
      "[[1 2]\n",
      " [3 4]\n",
      " [5 6]\n",
      " [7 8]]\n",
      "[[1 2 5 6]\n",
      " [3 4 7 8]]\n"
     ]
    }
   ],
   "source": [
    "import numpy as np\n",
    "arr1 = np . array ([[1 , 2] , [3 , 4]]) # Shape : (2 , 2)\n",
    "arr2 = np . array ([[5 , 6] , [7 , 8]]) # Shape : (2 , 2)\n",
    "concat_axis0 = np . concatenate (( arr1 , arr2 ) , axis =0)\n",
    "# Concatenate along axis 0 ( vertical ) Shape : (4 , 2)\n",
    "concat_axis1 = np . concatenate (( arr1 , arr2 ) , axis =1)\n",
    "# Concatenate along axis 1 ( horizontal ) Shape : (2 , 4)\n",
    "print ( concat_axis0 , concat_axis1 , sep ='\\n')"
   ]
  },
  {
   "cell_type": "markdown",
   "metadata": {
    "id": "3cTlhtAFB1dR"
   },
   "source": [
    "## Slicing and Indexing"
   ]
  },
  {
   "cell_type": "code",
   "execution_count": 103,
   "metadata": {
    "colab": {
     "base_uri": "https://localhost:8080/"
    },
    "executionInfo": {
     "elapsed": 406,
     "status": "ok",
     "timestamp": 1732969498433,
     "user": {
      "displayName": "Anwesh Rawat",
      "userId": "12194484589439496541"
     },
     "user_tz": -345
    },
    "id": "a7TllAwhB3uK",
    "outputId": "f9cba90f-ef39-4177-f0d0-6dfa83b96028"
   },
   "outputs": [
    {
     "name": "stdout",
     "output_type": "stream",
     "text": [
      " Basic : [1 2 3] [[3 4]\n",
      " [6 7]] [[[5]\n",
      "  [7]]]\n",
      " Step : [1 3] [[1]\n",
      " [7]] [[[1]]\n",
      "\n",
      " [[9]]]\n"
     ]
    }
   ],
   "source": [
    "import numpy as np\n",
    "# Arrays\n",
    "arr1d = np . array ([0 , 1 , 2 , 3 , 4 , 5])\n",
    "arr2d = np . array ([[0 , 1 , 2] , [3 , 4 , 5] , [6 , 7 , 8]])\n",
    "arr3d = np . array ([[[0 , 1] , [2 , 3]] , [[4 , 5] , [6 , 7]] , [[8 ,9] , [10 , 11]]])\n",
    "# Slicing examples\n",
    "print (\" Basic :\", arr1d [1:4] , arr2d [1:3 , 0:2] , arr3d [1:2 , 0:2 ,1:2])\n",
    "# Output Basic : arr1d :[1 2 3] arr2d :[[3 4] [6 7]] arr3d:[[[5] [7]]]\n",
    "print (\" Step :\", arr1d [1:5:2] , arr2d [::2 , 1::2] , arr3d [::2 ,::2 , 1::2])\n",
    "# Output : Step : [1 3] [[1] [7]] [[[1] [9]]]"
   ]
  },
  {
   "cell_type": "markdown",
   "metadata": {
    "id": "v2MgmWKNiUcv"
   },
   "source": [
    "## Array Mathematics"
   ]
  },
  {
   "cell_type": "code",
   "execution_count": 78,
   "metadata": {
    "colab": {
     "base_uri": "https://localhost:8080/"
    },
    "executionInfo": {
     "elapsed": 3,
     "status": "ok",
     "timestamp": 1732962906216,
     "user": {
      "displayName": "Anwesh Rawat",
      "userId": "12194484589439496541"
     },
     "user_tz": -345
    },
    "id": "iVXKQx25iW-z",
    "outputId": "c06ab26b-4425-4aaf-946b-7005472c146b"
   },
   "outputs": [
    {
     "name": "stdout",
     "output_type": "stream",
     "text": [
      "Add: [5 7 9]\n",
      " Subtract : [-3 -3 -3]\n",
      " Divide : [0.25 0.4  0.5 ]\n",
      " Multiply : [ 4 10 18]\n",
      " Power : [  1  32 729]\n",
      "Exp: [ 2.71828183  7.3890561  20.08553692]\n"
     ]
    }
   ],
   "source": [
    "import numpy as np\n",
    "arr1 = np . array ([1 , 2 , 3])\n",
    "arr2 = np . array ([4 , 5 , 6])\n",
    "print (\"Add:\", np . add ( arr1 , arr2 ) ) # Output Add: [5 7 9]\n",
    "print (\" Subtract :\", np . subtract ( arr1 , arr2 ) )\n",
    "# Output Subtract : [ -3 -3 -3]\n",
    "print (\" Divide :\", np . divide ( arr1 , arr2 ) )\n",
    "# Output Divide : [0.25 0.4 0.5 ]\n",
    "print (\" Multiply :\", np . multiply ( arr1 , arr2 ) )\n",
    "# Output Multiply : [ 4 10 18]\n",
    "print (\" Power :\", np . power ( arr1 , arr2 ) )\n",
    "# Output Power : [ 1 32 729]\n",
    "print (\"Exp:\", np . exp ( arr1 ) )\n",
    "# Output Exp: [ 2.71828183 7.3890561 20.08553692]"
   ]
  },
  {
   "cell_type": "markdown",
   "metadata": {
    "id": "tye-kKVwAKFg"
   },
   "source": [
    "## Matrix Multiplications"
   ]
  },
  {
   "cell_type": "code",
   "execution_count": 98,
   "metadata": {
    "colab": {
     "base_uri": "https://localhost:8080/"
    },
    "executionInfo": {
     "elapsed": 428,
     "status": "ok",
     "timestamp": 1732969051639,
     "user": {
      "displayName": "Anwesh Rawat",
      "userId": "12194484589439496541"
     },
     "user_tz": -345
    },
    "id": "mQzonb_DANCn",
    "outputId": "d0246adf-4fb6-42fb-af4a-41d53648a1b8"
   },
   "outputs": [
    {
     "name": "stdout",
     "output_type": "stream",
     "text": [
      " Result with np.dot :\n",
      " [[ 58  64]\n",
      " [139 154]]\n"
     ]
    }
   ],
   "source": [
    "import numpy as np\n",
    "# Define two matrices\n",
    "A = np . array ([[1 , 2 , 3] , [4 , 5 , 6]])\n",
    "B = np . array ([[7 , 8] , [9 , 10] , [11 , 12]])\n",
    "# Matrix multiplication using np.dot\n",
    "result_dot = np . dot (A , B )\n",
    "print (\" Result with np.dot :\\n\", result_dot ) # Output shape :(2 , 2)"
   ]
  },
  {
   "cell_type": "code",
   "execution_count": 99,
   "metadata": {
    "colab": {
     "base_uri": "https://localhost:8080/"
    },
    "executionInfo": {
     "elapsed": 422,
     "status": "ok",
     "timestamp": 1732969109854,
     "user": {
      "displayName": "Anwesh Rawat",
      "userId": "12194484589439496541"
     },
     "user_tz": -345
    },
    "id": "y1w8BXFqAci4",
    "outputId": "cf178dc1-3a9c-44eb-aac3-22f2ee7cdae7"
   },
   "outputs": [
    {
     "name": "stdout",
     "output_type": "stream",
     "text": [
      " Result with @ operator :\n",
      " [[ 58  64]\n",
      " [139 154]]\n",
      " Result with np. matmul :\n",
      " [[ 58  64]\n",
      " [139 154]]\n"
     ]
    }
   ],
   "source": [
    "import numpy as np\n",
    "# Define two matrices\n",
    "A = np . array ([[1 , 2 , 3] , [4 , 5 , 6]])\n",
    "B = np . array ([[7 , 8] , [9 , 10] , [11 , 12]])\n",
    "# Matrix multiplication using @ operator\n",
    "result_at = A @ B\n",
    "print (\" Result with @ operator :\\n\", result_at ) # Outputshape : (2 , 2)\n",
    "# Matrix multiplication using np. matmul\n",
    "result_matmul = np . matmul (A , B )\n",
    "print (\" Result with np. matmul :\\n\", result_matmul ) # Outputshape : (2 , 2)"
   ]
  },
  {
   "cell_type": "markdown",
   "metadata": {
    "id": "25oKawkp_yYc"
   },
   "source": [
    "## Linear Algebra with Numpy"
   ]
  },
  {
   "cell_type": "code",
   "execution_count": 97,
   "metadata": {
    "colab": {
     "base_uri": "https://localhost:8080/"
    },
    "executionInfo": {
     "elapsed": 398,
     "status": "ok",
     "timestamp": 1732968995788,
     "user": {
      "displayName": "Anwesh Rawat",
      "userId": "12194484589439496541"
     },
     "user_tz": -345
    },
    "id": "DXaXVpQDHXoZ",
    "outputId": "d70ec5d1-01d8-41da-e7df-22b2e8336b61"
   },
   "outputs": [
    {
     "name": "stdout",
     "output_type": "stream",
     "text": [
      " Inverse :\n",
      " [[-2.   1. ]\n",
      " [ 1.5 -0.5]]\n",
      " Determinant : -2.0000000000000004\n",
      " Frobenius Norm : 5.477225575051661\n",
      "2 - Norm ( Euclidean ): 5.477225575051661\n",
      " Solution x: [-4.   4.5]\n"
     ]
    }
   ],
   "source": [
    "import numpy as np\n",
    "A = np . array ([[1 , 2] , [3 , 4]])\n",
    "B = np . array ([5 , 6])\n",
    "print (\" Inverse :\\n\", np . linalg . inv ( A ) )\n",
    "# Output : Inverse : [[ -2. 1. ] , [ 1.5 -0.5]]\n",
    "print (\" Determinant :\", np . linalg . det ( A ) )\n",
    "# Output : Determinant : -2.0\n",
    "print (\" Frobenius Norm :\", np . linalg . norm (A , 'fro') )\n",
    "# Output : Frobenius Norm : 5.4772\n",
    "print (\"2 - Norm ( Euclidean ):\", np . linalg . norm ( A ) )\n",
    "# Outptut : 2 - Norm ( Euclidean ): 5.4772\n",
    "print (\" Solution x:\", np . linalg . solve (A , B ) )\n",
    "# Output : Solution x: [ -4. 4.5]"
   ]
  }
 ],
 "metadata": {
  "colab": {
   "authorship_tag": "ABX9TyPQmR3mH596DAQVl/6+zniL",
   "mount_file_id": "1V4oVYfar8-H9oqHUxF_XsZOWPMK2VDZI",
   "provenance": []
  },
  "kernelspec": {
   "display_name": "Python 3",
   "name": "python3"
  },
  "language_info": {
   "name": "python"
  }
 },
 "nbformat": 4,
 "nbformat_minor": 0
}
