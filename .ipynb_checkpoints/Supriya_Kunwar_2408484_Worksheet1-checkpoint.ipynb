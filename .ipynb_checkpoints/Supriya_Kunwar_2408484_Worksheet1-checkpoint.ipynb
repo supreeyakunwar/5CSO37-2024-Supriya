{
 "cells": [
  {
   "cell_type": "markdown",
   "metadata": {},
   "source": [
    "**5CS037- Concepts and Technologies of AI.**"
   ]
  },
  {
   "cell_type": "markdown",
   "metadata": {},
   "source": [
    "**Worksheet - 1:** A coding exercises on Numpy."
   ]
  },
  {
   "cell_type": "markdown",
   "metadata": {},
   "source": [
    "**Problem - 1:** Array Creation"
   ]
  },
  {
   "cell_type": "markdown",
   "metadata": {},
   "source": [
    "**1. Initialize an empty array with size 2X2.**"
   ]
  },
  {
   "cell_type": "code",
   "execution_count": 46,
   "metadata": {},
   "outputs": [
    {
     "name": "stdout",
     "output_type": "stream",
     "text": [
      "Empty array (2x2):\n",
      "[[1.50199531e-307 5.11798224e-307]\n",
      " [3.44897992e-307 4.22795269e-307]]\n"
     ]
    }
   ],
   "source": [
    "import numpy as np \n",
    "empty_array = np.empty((2, 2))\n",
    "print(\"Empty array (2x2):\")\n",
    "print(empty_array)"
   ]
  },
  {
   "cell_type": "markdown",
   "metadata": {},
   "source": [
    "**2. Initialize an all one array with size 4X2.**"
   ]
  },
  {
   "cell_type": "code",
   "execution_count": 47,
   "metadata": {},
   "outputs": [
    {
     "name": "stdout",
     "output_type": "stream",
     "text": [
      "All-one array (4x2):\n",
      "[[1. 1.]\n",
      " [1. 1.]\n",
      " [1. 1.]\n",
      " [1. 1.]]\n"
     ]
    }
   ],
   "source": [
    "import numpy as np\n",
    "ones_array = np.ones((4, 2))\n",
    "print(\"All-one array (4x2):\")\n",
    "print(ones_array)"
   ]
  },
  {
   "cell_type": "markdown",
   "metadata": {},
   "source": [
    "**3. Return a new array of given shape and type, filled with fill value.{Hint: np.full}**"
   ]
  },
  {
   "cell_type": "code",
   "execution_count": 45,
   "metadata": {},
   "outputs": [
    {
     "name": "stdout",
     "output_type": "stream",
     "text": [
      "Array filled with 7 (3x3):\n",
      "[[7 7 7]\n",
      " [7 7 7]\n",
      " [7 7 7]]\n"
     ]
    }
   ],
   "source": [
    "import numpy as np\n",
    "fill_value_array = np.full((3, 3), 7)  # Example: fill value is 7\n",
    "print(\"Array filled with 7 (3x3):\")\n",
    "print(fill_value_array)\n"
   ]
  },
  {
   "cell_type": "markdown",
   "metadata": {},
   "source": [
    "**4. Return a new array of zeros with same shape and type as a given array.{Hint: np.zeros like}**"
   ]
  },
  {
   "cell_type": "code",
   "execution_count": 44,
   "metadata": {},
   "outputs": [
    {
     "name": "stdout",
     "output_type": "stream",
     "text": [
      "Array of zeros with the same shape as given array:\n",
      "[[0 0]\n",
      " [0 0]]\n"
     ]
    }
   ],
   "source": [
    "import numpy as np\n",
    "given_array = np.array([[5, 6], [7, 8]])\n",
    "zeros_like_array = np.zeros_like(given_array)\n",
    "print(\"Array of zeros with the same shape as given array:\")\n",
    "print(zeros_like_array)"
   ]
  },
  {
   "cell_type": "markdown",
   "metadata": {},
   "source": [
    "**5. Return a new array of ones with same shape and type as a given array.{Hint: np.ones like}**"
   ]
  },
  {
   "cell_type": "code",
   "execution_count": 43,
   "metadata": {},
   "outputs": [
    {
     "name": "stdout",
     "output_type": "stream",
     "text": [
      "Array of ones with the same shape as given array:\n",
      "[[1 1]\n",
      " [1 1]]\n"
     ]
    }
   ],
   "source": [
    "import numpy as np\n",
    "ones_like_array = np.ones_like(given_array)\n",
    "print(\"Array of ones with the same shape as given array:\")\n",
    "print(ones_like_array)"
   ]
  },
  {
   "cell_type": "markdown",
   "metadata": {},
   "source": [
    "**6. For an existing list new_list = [1,2,3,4] convert to an numpy array.{Hint: np.array()}**"
   ]
  },
  {
   "cell_type": "code",
   "execution_count": 42,
   "metadata": {},
   "outputs": [
    {
     "name": "stdout",
     "output_type": "stream",
     "text": [
      "Numpy array from list:\n",
      "[1 2 3 4]\n"
     ]
    }
   ],
   "source": [
    "import numpy as np\n",
    "new_list = [1, 2, 3, 4]\n",
    "numpy_array = np.array(new_list)\n",
    "print(\"Numpy array from list:\")\n",
    "print(numpy_array)"
   ]
  },
  {
   "cell_type": "markdown",
   "metadata": {},
   "source": [
    "**Problem - 2:** Array Manipulation"
   ]
  },
  {
   "cell_type": "markdown",
   "metadata": {},
   "source": [
    "**1. Create an array with values ranging from 10 to 49. {Hint:np.arrange()}.**"
   ]
  },
  {
   "cell_type": "code",
   "execution_count": 41,
   "metadata": {},
   "outputs": [
    {
     "name": "stdout",
     "output_type": "stream",
     "text": [
      "Array ranging from 10 to 49:\n",
      "[10 11 12 13 14 15 16 17 18 19 20 21 22 23 24 25 26 27 28 29 30 31 32 33\n",
      " 34 35 36 37 38 39 40 41 42 43 44 45 46 47 48 49]\n"
     ]
    }
   ],
   "source": [
    "import numpy as np\n",
    "range_array = np.arange(10, 50)\n",
    "print(\"Array ranging from 10 to 49:\")\n",
    "print(range_array)"
   ]
  },
  {
   "cell_type": "markdown",
   "metadata": {},
   "source": [
    "**2. Create a 3X3 matrix with values ranging from 0 to 8.\n",
    "{Hint:look for np.reshape()}**"
   ]
  },
  {
   "cell_type": "code",
   "execution_count": 40,
   "metadata": {},
   "outputs": [
    {
     "name": "stdout",
     "output_type": "stream",
     "text": [
      "3x3 matrix with values 0 to 8:\n",
      "[[0 1 2]\n",
      " [3 4 5]\n",
      " [6 7 8]]\n"
     ]
    }
   ],
   "source": [
    "import numpy as np\n",
    "matrix_3x3 = np.arange(9).reshape(3, 3)\n",
    "print(\"3x3 matrix with values 0 to 8:\")\n",
    "print(matrix_3x3)"
   ]
  },
  {
   "cell_type": "markdown",
   "metadata": {},
   "source": [
    "**3. Create a 3X3 identity matrix.{Hint:np.eye()}**"
   ]
  },
  {
   "cell_type": "code",
   "execution_count": 39,
   "metadata": {},
   "outputs": [
    {
     "name": "stdout",
     "output_type": "stream",
     "text": [
      "3x3 Identity matrix:\n",
      "[[1. 0. 0.]\n",
      " [0. 1. 0.]\n",
      " [0. 0. 1.]]\n"
     ]
    }
   ],
   "source": [
    "import numpy as np\n",
    "identity_matrix = np.eye(3)\n",
    "print(\"3x3 Identity matrix:\")\n",
    "print(identity_matrix)"
   ]
  },
  {
   "cell_type": "markdown",
   "metadata": {},
   "source": [
    "**4. Create a random array of size 30 and find the mean of the array.\n",
    "{Hint:check for np.random.random() and array.mean() function}**"
   ]
  },
  {
   "cell_type": "code",
   "execution_count": 38,
   "metadata": {},
   "outputs": [
    {
     "name": "stdout",
     "output_type": "stream",
     "text": [
      "Random array of size 30 and its mean:\n",
      "Array: [0.89320386 0.70250901 0.22140149 0.98068676 0.55840263 0.59562343\n",
      " 0.66651101 0.01090629 0.25595949 0.37940878 0.72548557 0.24667011\n",
      " 0.51036321 0.71135324 0.08676486 0.07150384 0.38823306 0.90461972\n",
      " 0.18001809 0.25019451 0.60236037 0.02488227 0.52466245 0.01044832\n",
      " 0.20952037 0.25816757 0.37773384 0.3782218  0.65003654 0.89241318]\n",
      "Mean: 0.4422755232963701\n"
     ]
    }
   ],
   "source": [
    "import numpy as np\n",
    "random_array = np.random.random(30)\n",
    "mean_value = random_array.mean()\n",
    "print(\"Random array of size 30 and its mean:\")\n",
    "print(\"Array:\", random_array)\n",
    "print(\"Mean:\", mean_value)"
   ]
  },
  {
   "cell_type": "markdown",
   "metadata": {},
   "source": [
    "**5. Create a 10X10 array with random values and find the minimum and maximum values.**"
   ]
  },
  {
   "cell_type": "code",
   "execution_count": 37,
   "metadata": {},
   "outputs": [
    {
     "name": "stdout",
     "output_type": "stream",
     "text": [
      "10x10 array with random values, min and max:\n",
      "Array:\n",
      " [[0.51599247 0.64001095 0.37967886 0.56496469 0.66643066 0.89314511\n",
      "  0.21115825 0.22635782 0.8852912  0.76443369]\n",
      " [0.76662516 0.19413983 0.16387928 0.53114064 0.80818    0.73965135\n",
      "  0.53514562 0.34307467 0.87652939 0.23039217]\n",
      " [0.5749847  0.74490826 0.18125852 0.38666622 0.56559382 0.3503017\n",
      "  0.61053076 0.90286658 0.16505377 0.87423456]\n",
      " [0.773085   0.2328104  0.46589084 0.9787065  0.36911182 0.12172445\n",
      "  0.23529319 0.97714169 0.65017861 0.85422991]\n",
      " [0.72023821 0.22334258 0.33108018 0.03117472 0.94809033 0.28266291\n",
      "  0.42931316 0.66411254 0.67210121 0.04986885]\n",
      " [0.96032748 0.97932197 0.30174837 0.98458458 0.98783113 0.70985596\n",
      "  0.82249268 0.08711526 0.80930628 0.47460805]\n",
      " [0.61990867 0.90790941 0.7231632  0.16274767 0.32234146 0.01119323\n",
      "  0.83571455 0.70659208 0.95005654 0.80345862]\n",
      " [0.89893265 0.443897   0.9787294  0.27057199 0.03892994 0.49554786\n",
      "  0.62734897 0.2003309  0.721008   0.55333003]\n",
      " [0.50075969 0.58013947 0.74510336 0.41439563 0.99235888 0.37349038\n",
      "  0.88480287 0.49320901 0.01879437 0.1201979 ]\n",
      " [0.63021343 0.64936652 0.84721259 0.92600865 0.03143725 0.36671738\n",
      "  0.66566042 0.51422608 0.17388036 0.23024289]]\n",
      "Min: 0.011193231295517081 Max: 0.9923588814372778\n"
     ]
    }
   ],
   "source": [
    "import numpy as np\n",
    "random_10x10 = np.random.random((10, 10))\n",
    "min_value = random_10x10.min()\n",
    "max_value = random_10x10.max()\n",
    "print(\"10x10 array with random values, min and max:\")\n",
    "print(\"Array:\\n\", random_10x10)\n",
    "print(\"Min:\", min_value, \"Max:\", max_value)"
   ]
  },
  {
   "cell_type": "markdown",
   "metadata": {},
   "source": [
    "**6. Create a zero array of size 10 and replace 5th element with 1.**"
   ]
  },
  {
   "cell_type": "code",
   "execution_count": 33,
   "metadata": {},
   "outputs": [
    {
     "name": "stdout",
     "output_type": "stream",
     "text": [
      "Zero array with 5th element replaced by 1:\n",
      "[0. 0. 0. 0. 1. 0. 0. 0. 0. 0.]\n"
     ]
    }
   ],
   "source": [
    "import numpy as np\n",
    "import numpy as np\n",
    "zero_array = np.zeros(10)\n",
    "zero_array[4] = 1  # Index 4 corresponds to the 5th element\n",
    "print(\"Zero array with 5th element replaced by 1:\")\n",
    "print(zero_array)\n"
   ]
  },
  {
   "cell_type": "markdown",
   "metadata": {},
   "source": [
    "**7. Reverse an array arr = [1,2,0,0,4,0].**"
   ]
  },
  {
   "cell_type": "code",
   "execution_count": 34,
   "metadata": {},
   "outputs": [
    {
     "name": "stdout",
     "output_type": "stream",
     "text": [
      "Reversed array:\n",
      "[0 4 0 0 2 1]\n"
     ]
    }
   ],
   "source": [
    "import numpy as np\n",
    "arr = [1, 2, 0, 0, 4, 0]\n",
    "reversed_arr = np.array(arr)[::-1]\n",
    "print(\"Reversed array:\")\n",
    "print(reversed_arr)\n"
   ]
  },
  {
   "cell_type": "markdown",
   "metadata": {},
   "source": [
    "**8. Create a 2d array with 1 on border and 0 inside.**"
   ]
  },
  {
   "cell_type": "code",
   "execution_count": 35,
   "metadata": {},
   "outputs": [
    {
     "name": "stdout",
     "output_type": "stream",
     "text": [
      "2D array with 1 on border and 0 inside:\n",
      "[[1. 1. 1. 1. 1.]\n",
      " [1. 0. 0. 0. 1.]\n",
      " [1. 0. 0. 0. 1.]\n",
      " [1. 0. 0. 0. 1.]\n",
      " [1. 1. 1. 1. 1.]]\n"
     ]
    }
   ],
   "source": [
    "import numpy as np\n",
    "border_array = np.ones((5, 5))  # Example size 5x5\n",
    "border_array[1:-1, 1:-1] = 0\n",
    "print(\"2D array with 1 on border and 0 inside:\")\n",
    "print(border_array)"
   ]
  },
  {
   "cell_type": "markdown",
   "metadata": {},
   "source": [
    "**9. Create a 8X8 matrix and fill it with a checkerboard pattern.**"
   ]
  },
  {
   "cell_type": "code",
   "execution_count": 36,
   "metadata": {},
   "outputs": [
    {
     "name": "stdout",
     "output_type": "stream",
     "text": [
      "8x8 Checkerboard pattern:\n",
      "[[0 1 0 1 0 1 0 1]\n",
      " [1 0 1 0 1 0 1 0]\n",
      " [0 1 0 1 0 1 0 1]\n",
      " [1 0 1 0 1 0 1 0]\n",
      " [0 1 0 1 0 1 0 1]\n",
      " [1 0 1 0 1 0 1 0]\n",
      " [0 1 0 1 0 1 0 1]\n",
      " [1 0 1 0 1 0 1 0]]\n"
     ]
    }
   ],
   "source": [
    "import numpy as np\n",
    "checkerboard = np.zeros((8, 8), dtype=int)\n",
    "checkerboard[::2, 1::2] = 1  # Odd columns for even rows\n",
    "checkerboard[1::2, ::2] = 1  # Even columns for odd rows\n",
    "print(\"8x8 Checkerboard pattern:\")\n",
    "print(checkerboard)"
   ]
  },
  {
   "cell_type": "markdown",
   "metadata": {},
   "source": [
    "**Problem - 3:** Array Operations:"
   ]
  },
  {
   "cell_type": "markdown",
   "metadata": {},
   "source": [
    "**1. Add the two array.**"
   ]
  },
  {
   "cell_type": "code",
   "execution_count": 55,
   "metadata": {},
   "outputs": [
    {
     "name": "stdout",
     "output_type": "stream",
     "text": [
      "Sum of x and y:\n",
      "[[ 6  8]\n",
      " [10 13]]\n"
     ]
    }
   ],
   "source": [
    "import numpy as np\n",
    "# Given arrays\n",
    "x = np.array([[1, 2], [3, 5]])\n",
    "y = np.array([[5, 6], [7, 8]])\n",
    "v = np.array([9, 10])\n",
    "w = np.array([11, 12])\n",
    "array_sum = x + y\n",
    "print(\"Sum of x and y:\")\n",
    "print(array_sum)"
   ]
  },
  {
   "cell_type": "markdown",
   "metadata": {},
   "source": [
    "**2. Subtract the two array.**"
   ]
  },
  {
   "cell_type": "code",
   "execution_count": 56,
   "metadata": {},
   "outputs": [
    {
     "name": "stdout",
     "output_type": "stream",
     "text": [
      "Difference of x and y:\n",
      "[[-4 -4]\n",
      " [-4 -3]]\n"
     ]
    }
   ],
   "source": [
    "import numpy as np\n",
    "# Given arrays\n",
    "x = np.array([[1, 2], [3, 5]])\n",
    "y = np.array([[5, 6], [7, 8]])\n",
    "v = np.array([9, 10])\n",
    "w = np.array([11, 12])\n",
    "array_difference = x - y\n",
    "print(\"Difference of x and y:\")\n",
    "print(array_difference)"
   ]
  },
  {
   "cell_type": "markdown",
   "metadata": {},
   "source": [
    "**3. Multiply the array with any integers of your choice.**"
   ]
  },
  {
   "cell_type": "code",
   "execution_count": 54,
   "metadata": {},
   "outputs": [
    {
     "name": "stdout",
     "output_type": "stream",
     "text": [
      "Multiplying x by 3:\n",
      "[[ 3  6]\n",
      " [ 9 15]]\n"
     ]
    }
   ],
   "source": [
    "import numpy as np\n",
    "# Given arrays\n",
    "x = np.array([[1, 2], [3, 5]])\n",
    "y = np.array([[5, 6], [7, 8]])\n",
    "v = np.array([9, 10])\n",
    "w = np.array([11, 12])\n",
    "array_multiplied = x * 3\n",
    "print(\"Multiplying x by 3:\")\n",
    "print(array_multiplied)"
   ]
  },
  {
   "cell_type": "markdown",
   "metadata": {},
   "source": [
    "**4. Find the square of each element of the array.**"
   ]
  },
  {
   "cell_type": "code",
   "execution_count": 53,
   "metadata": {},
   "outputs": [
    {
     "name": "stdout",
     "output_type": "stream",
     "text": [
      "Square of each element in x:\n",
      "[[ 1  4]\n",
      " [ 9 25]]\n"
     ]
    }
   ],
   "source": [
    "import numpy as np\n",
    "# Given arrays\n",
    "x = np.array([[1, 2], [3, 5]])\n",
    "y = np.array([[5, 6], [7, 8]])\n",
    "v = np.array([9, 10])\n",
    "w = np.array([11, 12])\n",
    "array_squared = x ** 2\n",
    "print(\"Square of each element in x:\")\n",
    "print(array_squared)\n"
   ]
  },
  {
   "cell_type": "markdown",
   "metadata": {},
   "source": [
    "**5. Find the dot product between: v(and)w ; x(and)v ; x(and)y.**"
   ]
  },
  {
   "cell_type": "code",
   "execution_count": 57,
   "metadata": {},
   "outputs": [
    {
     "name": "stdout",
     "output_type": "stream",
     "text": [
      "Dot product results:\n",
      "v·w: 219\n",
      "x·v: [29 77]\n",
      "x·y:\n",
      "[[19 22]\n",
      " [50 58]]\n"
     ]
    }
   ],
   "source": [
    "import numpy as np\n",
    "# Given arrays\n",
    "x = np.array([[1, 2], [3, 5]])\n",
    "y = np.array([[5, 6], [7, 8]])\n",
    "v = np.array([9, 10])\n",
    "w = np.array([11, 12])\n",
    "dot_v_w = np.dot(v, w)\n",
    "dot_x_v = np.dot(x, v)\n",
    "dot_x_y = np.dot(x, y)\n",
    "print(\"Dot product results:\")\n",
    "print(\"v·w:\", dot_v_w)\n",
    "print(\"x·v:\", dot_x_v)\n",
    "print(\"x·y:\")\n",
    "print(dot_x_y)"
   ]
  },
  {
   "cell_type": "markdown",
   "metadata": {},
   "source": [
    "**6. Concatenate x(and)y along row and Concatenate v(and)w along column.\r\n",
    "{Hint:try np.concatenate() or np.vstack() functions**\n",
    "."
   ]
  },
  {
   "cell_type": "code",
   "execution_count": 59,
   "metadata": {},
   "outputs": [
    {
     "name": "stdout",
     "output_type": "stream",
     "text": [
      "Concatenations:\n",
      "x and y along rows:\n",
      "[[1 2]\n",
      " [3 5]\n",
      " [5 6]\n",
      " [7 8]]\n",
      "v and w along columns:\n",
      "[[ 9 10]\n",
      " [11 12]]\n"
     ]
    }
   ],
   "source": [
    "import numpy as np\n",
    "# Given arrays\n",
    "x = np.array([[1, 2], [3, 5]])\n",
    "y = np.array([[5, 6], [7, 8]])\n",
    "v = np.array([9, 10])\n",
    "w = np.array([11, 12])\n",
    "concat_xy = np.concatenate((x, y), axis=0)\n",
    "concat_vw = np.vstack((v, w))\n",
    "print(\"Concatenations:\")\n",
    "print(\"x and y along rows:\")\n",
    "print(concat_xy)\n",
    "print(\"v and w along columns:\")\n",
    "print(concat_vw)"
   ]
  },
  {
   "cell_type": "markdown",
   "metadata": {},
   "source": [
    "**7. Concatenate x(and)v; if you get an error, observe and explain why did you get the error?**"
   ]
  },
  {
   "cell_type": "code",
   "execution_count": 62,
   "metadata": {},
   "outputs": [
    {
     "name": "stdout",
     "output_type": "stream",
     "text": [
      "Error while concatenating x and v:\n",
      "all the input arrays must have same number of dimensions, but the array at index 0 has 2 dimension(s) and the array at index 1 has 1 dimension(s)\n"
     ]
    }
   ],
   "source": [
    "import numpy as np\n",
    "# Given arrays\n",
    "x = np.array([[1, 2], [3, 5]])\n",
    "y = np.array([[5, 6], [7, 8]])\n",
    "v = np.array([9, 10])\n",
    "w = np.array([11, 12])\n",
    "try:\n",
    "    concat_xv = np.concatenate((x, v), axis=0)\n",
    "    print(\"Concatenation of x and v along rows:\")\n",
    "    print(concat_xv)\n",
    "except ValueError as e:\n",
    "    print(\"Error while concatenating x and v:\")\n",
    "    print(e)"
   ]
  },
  {
   "cell_type": "markdown",
   "metadata": {},
   "source": [
    "**Problem - 4:** Matrix Operations"
   ]
  },
  {
   "cell_type": "code",
   "execution_count": 63,
   "metadata": {},
   "outputs": [
    {
     "name": "stdout",
     "output_type": "stream",
     "text": [
      "A:\n",
      "[[3 4]\n",
      " [7 8]] \n",
      "B:\n",
      "[[5 3]\n",
      " [2 1]]\n"
     ]
    }
   ],
   "source": [
    "A = np.array([[3,4],[7,8]])\n",
    "B = np.array([[5,3],[2,1]])\n",
    "print(f\"A:\\n{A} \\nB:\\n{B}\")"
   ]
  },
  {
   "cell_type": "markdown",
   "metadata": {},
   "source": [
    "**1. Prove A.A−1 = I.**"
   ]
  },
  {
   "cell_type": "code",
   "execution_count": 64,
   "metadata": {},
   "outputs": [
    {
     "name": "stdout",
     "output_type": "stream",
     "text": [
      "Ainv:\n",
      "[[-2.    1.  ]\n",
      " [ 1.75 -0.75]]\n",
      "A.Ainv:\n",
      "[[1.0000000e+00 4.4408921e-16]\n",
      " [0.0000000e+00 1.0000000e+00]]\n"
     ]
    }
   ],
   "source": [
    "Ainv=np.linalg.inv(A)\n",
    "print(f\"Ainv:\\n{Ainv}\")\n",
    "print(f\"A.Ainv:\\n{np.dot(A,Ainv)}\")"
   ]
  },
  {
   "cell_type": "markdown",
   "metadata": {},
   "source": [
    "**2. Prove AB ̸= BA.**"
   ]
  },
  {
   "cell_type": "code",
   "execution_count": 65,
   "metadata": {},
   "outputs": [
    {
     "name": "stdout",
     "output_type": "stream",
     "text": [
      "AB:\n",
      "[[23 13]\n",
      " [51 29]]\n",
      "BA:\n",
      "[[36 44]\n",
      " [13 16]]\n"
     ]
    }
   ],
   "source": [
    "print(f\"AB:\\n{np.dot(A,B)}\")\n",
    "print(f\"BA:\\n{np.dot(B,A)}\")"
   ]
  },
  {
   "cell_type": "markdown",
   "metadata": {},
   "source": [
    "**3. Prove (AB)^T = B^TA^T**"
   ]
  },
  {
   "cell_type": "code",
   "execution_count": 66,
   "metadata": {},
   "outputs": [
    {
     "name": "stdout",
     "output_type": "stream",
     "text": [
      "(AB)T:\n",
      "[[23 51]\n",
      " [13 29]]\n",
      "BT.AT:\n",
      "[[23 51]\n",
      " [13 29]]\n"
     ]
    }
   ],
   "source": [
    "AB=np.dot(A,B)\n",
    "BT=np.transpose(B)\n",
    "AT=np.transpose(A)\n",
    "print(f\"(AB)T:\\n{np.transpose(AB)}\")\n",
    "print(f\"BT.AT:\\n{np.dot(BT,AT)}\")"
   ]
  },
  {
   "cell_type": "markdown",
   "metadata": {},
   "source": [
    "**#• Solve the following system of Linear equation using Inverse Methods.\n",
    "#2x − 3y + z = −1\n",
    "#x − y + 2z = −3\n",
    "#3x + y − z = 9**"
   ]
  },
  {
   "cell_type": "code",
   "execution_count": 67,
   "metadata": {},
   "outputs": [
    {
     "name": "stdout",
     "output_type": "stream",
     "text": [
      "x=1.9999999999999996\n",
      "y=1.0000000000000004\n",
      "z=-1.9999999999999996\n"
     ]
    }
   ],
   "source": [
    "A=np.array([[2,-3,1],[1,-1,2],[3,1,-1]])\n",
    "B=np.array([-1,-3,9])\n",
    "AI=np.linalg.inv(A)\n",
    "X=np.dot(AI,B)\n",
    "print(f\"x={X[0]}\\ny={X[1]}\\nz={X[2]}\")"
   ]
  },
  {
   "cell_type": "code",
   "execution_count": null,
   "metadata": {},
   "outputs": [],
   "source": []
  }
 ],
 "metadata": {
  "colab": {
   "provenance": []
  },
  "kernelspec": {
   "display_name": "Python 3 (ipykernel)",
   "language": "python",
   "name": "python3"
  },
  "language_info": {
   "codemirror_mode": {
    "name": "ipython",
    "version": 3
   },
   "file_extension": ".py",
   "mimetype": "text/x-python",
   "name": "python",
   "nbconvert_exporter": "python",
   "pygments_lexer": "ipython3",
   "version": "3.11.7"
  }
 },
 "nbformat": 4,
 "nbformat_minor": 4
}
